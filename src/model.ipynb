{
 "cells": [
  {
   "cell_type": "markdown",
   "metadata": {},
   "source": [
    "# Spooky author classification challenge"
   ]
  },
  {
   "cell_type": "code",
   "execution_count": 4,
   "metadata": {},
   "outputs": [],
   "source": [
    "import pandas as pd\n",
    "import numpy as np\n",
    "import matplotlib.pyplot as plt\n",
    "import seaborn as sns\n",
    "%matplotlib inline\n",
    "\n",
    "\n",
    "from nltk.corpus import stopwords, wordnet\n",
    "from nltk import pos_tag\n",
    "from nltk.stem import WordNetLemmatizer\n",
    "from nltk.tokenize import word_tokenize, RegexpTokenizer \n",
    "\n",
    "from sklearn.preprocessing import StandardScaler,LabelEncoder\n",
    "\n",
    "\n",
    "from sklearn.model_selection import train_test_split, cross_val_score, GridSearchCV, StratifiedKFold\n",
    "from sklearn.feature_extraction.text import TfidfVectorizer, CountVectorizer\n",
    "from sklearn.naive_bayes import MultinomialNB\n",
    "from sklearn.metrics import classification_report, confusion_matrix, make_scorer, log_loss\n",
    "from sklearn.linear_model import LogisticRegression\n",
    "from xgboost import XGBClassifier\n",
    "\n",
    "from keras.models import Model, Sequential\n",
    "from keras.layers import Dense, Input,Dropout, Embedding, LSTM, Bidirectional, Activation, GRU\n",
    "from keras.layers.embeddings import Embedding\n",
    "from keras.preprocessing.text import one_hot, Tokenizer\n",
    "from keras.preprocessing.sequence import pad_sequences\n",
    "from keras.callbacks import EarlyStopping\n",
    "import keras.backend as K"
   ]
  },
  {
   "cell_type": "code",
   "execution_count": 2,
   "metadata": {},
   "outputs": [],
   "source": [
    "train = pd.read_csv('../input/train.csv')\n",
    "test = pd.read_csv('../input/test.csv')\n",
    "sample_sub = pd.read_csv('../input/sample_submission.csv')"
   ]
  },
  {
   "cell_type": "code",
   "execution_count": 3,
   "metadata": {},
   "outputs": [
    {
     "data": {
      "text/html": [
       "<div>\n",
       "<style scoped>\n",
       "    .dataframe tbody tr th:only-of-type {\n",
       "        vertical-align: middle;\n",
       "    }\n",
       "\n",
       "    .dataframe tbody tr th {\n",
       "        vertical-align: top;\n",
       "    }\n",
       "\n",
       "    .dataframe thead th {\n",
       "        text-align: right;\n",
       "    }\n",
       "</style>\n",
       "<table border=\"1\" class=\"dataframe\">\n",
       "  <thead>\n",
       "    <tr style=\"text-align: right;\">\n",
       "      <th></th>\n",
       "      <th>id</th>\n",
       "      <th>text</th>\n",
       "      <th>author</th>\n",
       "    </tr>\n",
       "  </thead>\n",
       "  <tbody>\n",
       "    <tr>\n",
       "      <th>0</th>\n",
       "      <td>id26305</td>\n",
       "      <td>This process, however, afforded me no means of...</td>\n",
       "      <td>EAP</td>\n",
       "    </tr>\n",
       "    <tr>\n",
       "      <th>1</th>\n",
       "      <td>id17569</td>\n",
       "      <td>It never once occurred to me that the fumbling...</td>\n",
       "      <td>HPL</td>\n",
       "    </tr>\n",
       "    <tr>\n",
       "      <th>2</th>\n",
       "      <td>id11008</td>\n",
       "      <td>In his left hand was a gold snuff box, from wh...</td>\n",
       "      <td>EAP</td>\n",
       "    </tr>\n",
       "    <tr>\n",
       "      <th>3</th>\n",
       "      <td>id27763</td>\n",
       "      <td>How lovely is spring As we looked from Windsor...</td>\n",
       "      <td>MWS</td>\n",
       "    </tr>\n",
       "    <tr>\n",
       "      <th>4</th>\n",
       "      <td>id12958</td>\n",
       "      <td>Finding nothing else, not even gold, the Super...</td>\n",
       "      <td>HPL</td>\n",
       "    </tr>\n",
       "  </tbody>\n",
       "</table>\n",
       "</div>"
      ],
      "text/plain": [
       "        id                                               text author\n",
       "0  id26305  This process, however, afforded me no means of...    EAP\n",
       "1  id17569  It never once occurred to me that the fumbling...    HPL\n",
       "2  id11008  In his left hand was a gold snuff box, from wh...    EAP\n",
       "3  id27763  How lovely is spring As we looked from Windsor...    MWS\n",
       "4  id12958  Finding nothing else, not even gold, the Super...    HPL"
      ]
     },
     "execution_count": 3,
     "metadata": {},
     "output_type": "execute_result"
    }
   ],
   "source": [
    "train.head()"
   ]
  },
  {
   "cell_type": "code",
   "execution_count": 4,
   "metadata": {},
   "outputs": [
    {
     "name": "stdout",
     "output_type": "stream",
     "text": [
      "(19579, 3)\n",
      "(8392, 2)\n"
     ]
    }
   ],
   "source": [
    "print(train.shape)\n",
    "print(test.shape)"
   ]
  },
  {
   "cell_type": "code",
   "execution_count": 5,
   "metadata": {},
   "outputs": [
    {
     "data": {
      "image/png": "[encoded data removed]",
      "text/plain": [
       "<Figure size 720x432 with 1 Axes>"
      ]
     },
     "metadata": {
      "needs_background": "light"
     },
     "output_type": "display_data"
    }
   ],
   "source": [
    "plt.figure(figsize = (10,6))\n",
    "sns.countplot(train.author);"
   ]
  },
  {
   "cell_type": "markdown",
   "metadata": {},
   "source": [
    "There's only a slight imbalance in the target class."
   ]
  },
  {
   "cell_type": "markdown",
   "metadata": {},
   "source": [
    "- **Map the author name abbreviations to integers.**"
   ]
  },
  {
   "cell_type": "code",
   "execution_count": 6,
   "metadata": {},
   "outputs": [],
   "source": [
    "train.loc[:, 'author'] = train.author.map({'EAP':0, 'HPL': 1, 'MWS': 2})"
   ]
  },
  {
   "cell_type": "markdown",
   "metadata": {},
   "source": [
    "### Text preprocessing"
   ]
  },
  {
   "cell_type": "code",
   "execution_count": 7,
   "metadata": {},
   "outputs": [],
   "source": [
    "stop_words = set(stopwords.words('english'))\n",
    "lemmatizer = WordNetLemmatizer()\n",
    "tokenizer = RegexpTokenizer(r'([a-zA-Z]+)') \n",
    "\n",
    "\n",
    "\n",
    "def get_wordnet_pos(word):\n",
    "    tag = pos_tag([word])[0][1][0].upper()\n",
    "    tag_dict = {\"J\": wordnet.ADJ,\n",
    "                \"N\": wordnet.NOUN,\n",
    "                \"V\": wordnet.VERB,\n",
    "                \"R\": wordnet.ADV}\n",
    "    return tag_dict.get(tag, wordnet.NOUN)\n",
    "\n",
    "def preprocess_text(text):\n",
    "    '''\n",
    "    This function preprocesses the comments and sets them up for vectorization.\n",
    "    Input: comment string\n",
    "    Returns: A string after converting the words to lowercase, removing punctuations, and lemmatizing each word\n",
    "    '''\n",
    "    words = [w for w in tokenizer.tokenize(text.lower()) if not w in stop_words]  # convert to lowercase and remove stopwords\n",
    "    words = [w for w in words if len(w)>2] # remove words less than 3 letters long\n",
    "    lemmatized_text = ' '.join([lemmatizer.lemmatize(w, pos= get_wordnet_pos(w)) for w in words]) ## lemmatization\n",
    "    return lemmatized_text"
   ]
  },
  {
   "cell_type": "code",
   "execution_count": 8,
   "metadata": {},
   "outputs": [
    {
     "data": {
      "text/plain": [
       "0        process however afford mean ascertain dimensio...\n",
       "1                    never occur fumble might mere mistake\n",
       "2        left hand gold snuff box caper hill cut manner...\n",
       "3        lovely spring look windsor terrace sixteen fer...\n",
       "4        find nothing else even gold superintendent aba...\n",
       "                               ...                        \n",
       "19574    could fancy look eminent landscape painter bui...\n",
       "19575                          lid clenched together spasm\n",
       "19576    mais faut agir say frenchman never faint outright\n",
       "19577                 item news like strike coolly receive\n",
       "19578    laid gnarl claw shoulder seem shake altogether...\n",
       "Name: text, Length: 19579, dtype: object"
      ]
     },
     "execution_count": 8,
     "metadata": {},
     "output_type": "execute_result"
    }
   ],
   "source": [
    "# Apply the preprocessing steps to the train text\n",
    "train.loc[:, 'text'] = train.text.apply(lambda text: preprocess_text(text))\n",
    "train.text"
   ]
  },
  {
   "cell_type": "code",
   "execution_count": 9,
   "metadata": {},
   "outputs": [
    {
     "data": {
      "text/plain": [
       "count    19579.000000\n",
       "mean        88.284642\n",
       "std         65.730563\n",
       "min          0.000000\n",
       "25%         46.000000\n",
       "50%         75.000000\n",
       "75%        115.000000\n",
       "max       2848.000000\n",
       "Name: text, dtype: float64"
      ]
     },
     "execution_count": 9,
     "metadata": {},
     "output_type": "execute_result"
    }
   ],
   "source": [
    "train.text.apply(lambda snippet: len(snippet)).describe()"
   ]
  },
  {
   "cell_type": "code",
   "execution_count": 10,
   "metadata": {},
   "outputs": [
    {
     "data": {
      "text/plain": [
       "array([ 477, 1023, 3601, 3734, 8654])"
      ]
     },
     "execution_count": 10,
     "metadata": {},
     "output_type": "execute_result"
    }
   ],
   "source": [
    "ind_to_drop = np.where(train.text.apply(lambda s: len(s)==0))[0]\n",
    "ind_to_drop"
   ]
  },
  {
   "cell_type": "code",
   "execution_count": 11,
   "metadata": {},
   "outputs": [],
   "source": [
    "train = train.drop(ind_to_drop,axis=0)"
   ]
  },
  {
   "cell_type": "code",
   "execution_count": 12,
   "metadata": {},
   "outputs": [
    {
     "name": "stdout",
     "output_type": "stream",
     "text": [
      "max length: 2848\n"
     ]
    },
    {
     "data": {
      "image/png": "[encoded data removed]",
      "text/plain": [
       "<Figure size 432x288 with 1 Axes>"
      ]
     },
     "metadata": {
      "needs_background": "light"
     },
     "output_type": "display_data"
    }
   ],
   "source": [
    "MAX_LENGTH = max(map(len, train.text))\n",
    "print(\"max length:\", MAX_LENGTH)\n",
    "\n",
    "plt.title('Text length distribution')\n",
    "plt.hist(list(map(len, train.text)), bins=50);"
   ]
  },
  {
   "cell_type": "code",
   "execution_count": 13,
   "metadata": {},
   "outputs": [],
   "source": [
    "X_train, X_test, y_train, y_test = train_test_split(train, train.author, test_size=0.2, \n",
    "                                                  shuffle=True, random_state=999, stratify = train.author)"
   ]
  },
  {
   "cell_type": "code",
   "execution_count": 14,
   "metadata": {
    "scrolled": true
   },
   "outputs": [],
   "source": [
    "tfidf = TfidfVectorizer(ngram_range = (1,2), strip_accents= 'unicode',\n",
    "                       max_df= 0.5, min_df = 5, analyzer= 'word', \n",
    "                       max_features = 10000, sublinear_tf=True)\n",
    "\n",
    "count_vec = CountVectorizer(ngram_range = (1,2), strip_accents= 'unicode',\n",
    "                       max_df= 0.5, min_df = 5, analyzer= 'word', \n",
    "                       max_features = 10000)\n",
    "## Fit on the training set\n",
    "tfidf.fit(X_train.text)\n",
    "count_vec.fit(X_train.text)\n",
    "\n",
    "# Transform both the training set and the test set with the transformer\n",
    "tfidf_train = tfidf.transform(X_train.text)\n",
    "tfidf_test = tfidf.transform(X_test.text)\n",
    "\n",
    "countvec_train = count_vec.transform(X_train.text)\n",
    "countvec_test = count_vec.transform(X_test.text)"
   ]
  },
  {
   "cell_type": "code",
   "execution_count": 15,
   "metadata": {},
   "outputs": [
    {
     "name": "stdout",
     "output_type": "stream",
     "text": [
      "(15659, 6905)\n",
      "(3915, 6905)\n",
      "(15659, 6905)\n",
      "(3915, 6905)\n"
     ]
    }
   ],
   "source": [
    "print(tfidf_train.shape)\n",
    "print(tfidf_test.shape)\n",
    "print(countvec_train.shape)\n",
    "print(countvec_test.shape)"
   ]
  },
  {
   "cell_type": "code",
   "execution_count": 16,
   "metadata": {},
   "outputs": [],
   "source": [
    "def get_top_n_tokens(vectorizer, vectorizer_name, df, top_n = 5):\n",
    "\n",
    "    feature_names = vectorizer.get_feature_names()\n",
    "    scores = np.sum(df.A, axis=0,keepdims=False)\n",
    "    p=[]\n",
    "    for tag, score in zip(feature_names, scores):\n",
    "        p.append((tag, score))\n",
    "    scores_df = pd.DataFrame(p,columns=['token', '%s score'%(vectorizer_name)]).sort_values(by = '%s score'%(vectorizer_name), ascending=False)\n",
    "    return scores_df.head(top_n)"
   ]
  },
  {
   "cell_type": "code",
   "execution_count": 17,
   "metadata": {},
   "outputs": [
    {
     "data": {
      "text/html": [
       "<div>\n",
       "<style scoped>\n",
       "    .dataframe tbody tr th:only-of-type {\n",
       "        vertical-align: middle;\n",
       "    }\n",
       "\n",
       "    .dataframe tbody tr th {\n",
       "        vertical-align: top;\n",
       "    }\n",
       "\n",
       "    .dataframe thead th {\n",
       "        text-align: right;\n",
       "    }\n",
       "</style>\n",
       "<table border=\"1\" class=\"dataframe\">\n",
       "  <thead>\n",
       "    <tr style=\"text-align: right;\">\n",
       "      <th></th>\n",
       "      <th>token</th>\n",
       "      <th>tfidf score</th>\n",
       "    </tr>\n",
       "  </thead>\n",
       "  <tbody>\n",
       "    <tr>\n",
       "      <th>4226</th>\n",
       "      <td>one</td>\n",
       "      <td>191.311344</td>\n",
       "    </tr>\n",
       "    <tr>\n",
       "      <th>5237</th>\n",
       "      <td>say</td>\n",
       "      <td>180.107934</td>\n",
       "    </tr>\n",
       "    <tr>\n",
       "      <th>1241</th>\n",
       "      <td>could</td>\n",
       "      <td>168.762207</td>\n",
       "    </tr>\n",
       "    <tr>\n",
       "      <th>6422</th>\n",
       "      <td>upon</td>\n",
       "      <td>164.591504</td>\n",
       "    </tr>\n",
       "    <tr>\n",
       "      <th>6811</th>\n",
       "      <td>would</td>\n",
       "      <td>157.148996</td>\n",
       "    </tr>\n",
       "  </tbody>\n",
       "</table>\n",
       "</div>"
      ],
      "text/plain": [
       "      token  tfidf score\n",
       "4226    one   191.311344\n",
       "5237    say   180.107934\n",
       "1241  could   168.762207\n",
       "6422   upon   164.591504\n",
       "6811  would   157.148996"
      ]
     },
     "execution_count": 17,
     "metadata": {},
     "output_type": "execute_result"
    }
   ],
   "source": [
    "get_top_n_tokens(tfidf, 'tfidf', tfidf_train, top_n = 5)"
   ]
  },
  {
   "cell_type": "code",
   "execution_count": 18,
   "metadata": {},
   "outputs": [
    {
     "data": {
      "text/html": [
       "<div>\n",
       "<style scoped>\n",
       "    .dataframe tbody tr th:only-of-type {\n",
       "        vertical-align: middle;\n",
       "    }\n",
       "\n",
       "    .dataframe tbody tr th {\n",
       "        vertical-align: top;\n",
       "    }\n",
       "\n",
       "    .dataframe thead th {\n",
       "        text-align: right;\n",
       "    }\n",
       "</style>\n",
       "<table border=\"1\" class=\"dataframe\">\n",
       "  <thead>\n",
       "    <tr style=\"text-align: right;\">\n",
       "      <th></th>\n",
       "      <th>token</th>\n",
       "      <th>Count_vec score</th>\n",
       "    </tr>\n",
       "  </thead>\n",
       "  <tbody>\n",
       "    <tr>\n",
       "      <th>4226</th>\n",
       "      <td>one</td>\n",
       "      <td>1335</td>\n",
       "    </tr>\n",
       "    <tr>\n",
       "      <th>6422</th>\n",
       "      <td>upon</td>\n",
       "      <td>1149</td>\n",
       "    </tr>\n",
       "    <tr>\n",
       "      <th>1241</th>\n",
       "      <td>could</td>\n",
       "      <td>1067</td>\n",
       "    </tr>\n",
       "    <tr>\n",
       "      <th>5237</th>\n",
       "      <td>say</td>\n",
       "      <td>972</td>\n",
       "    </tr>\n",
       "    <tr>\n",
       "      <th>6811</th>\n",
       "      <td>would</td>\n",
       "      <td>961</td>\n",
       "    </tr>\n",
       "  </tbody>\n",
       "</table>\n",
       "</div>"
      ],
      "text/plain": [
       "      token  Count_vec score\n",
       "4226    one             1335\n",
       "6422   upon             1149\n",
       "1241  could             1067\n",
       "5237    say              972\n",
       "6811  would              961"
      ]
     },
     "execution_count": 18,
     "metadata": {},
     "output_type": "execute_result"
    }
   ],
   "source": [
    "get_top_n_tokens(count_vec, 'Count_vec', countvec_train, top_n = 5)"
   ]
  },
  {
   "cell_type": "code",
   "execution_count": 19,
   "metadata": {},
   "outputs": [],
   "source": [
    "def grid_search(clf, parameters, X, y, n_jobs=-1, n_folds=5, score_func=None,verbose=0):\n",
    "    if score_func:\n",
    "        gs = GridSearchCV(clf, param_grid=parameters, cv=n_folds, n_jobs=n_jobs, scoring=score_func,verbose =verbose)\n",
    "    else:\n",
    "        gs = GridSearchCV(clf, param_grid=parameters, cv=5, verbose =verbose)\n",
    "    gs.fit(X, y)\n",
    "    print (\"Best parameter values: {}\\n Best mean CV score = {:.4} and std. dev. = {:.4}\".format(gs.best_params_ , \n",
    "                                                                      gs.best_score_, \n",
    "                                                                      gs.cv_results_['std_test_score'][gs.best_index_]))\n",
    "    best = gs.best_estimator_\n",
    "    return best\n",
    "\n",
    "def show_metrics(y_test,y_pred, y_pred_proba):\n",
    "    print(classification_report(y_test, y_pred ))\n",
    "    display(pd.DataFrame(confusion_matrix(y_test, y_pred), \n",
    "                         columns= ['Predicted EAP', 'Predicted HPL', 'predicted MWS'], \n",
    "                         index = ['Actual EAP', 'Actual HPL', 'Actual MWS']))\n",
    "    print('The multiclass logloss is {}'.format(log_loss(y_test, y_pred_proba)))\n",
    "    \n",
    "mlogloss = make_scorer(log_loss, greater_is_better=False, needs_proba=True)"
   ]
  },
  {
   "cell_type": "markdown",
   "metadata": {},
   "source": [
    "#### Naive Bayes"
   ]
  },
  {
   "cell_type": "code",
   "execution_count": 20,
   "metadata": {},
   "outputs": [
    {
     "name": "stdout",
     "output_type": "stream",
     "text": [
      "Best parameter values: {'alpha': 0.04}\n",
      " Best mean CV score = -0.4703 and std. dev. = 0.006535\n"
     ]
    }
   ],
   "source": [
    "clf_mulNB = MultinomialNB()\n",
    "parameters = {'alpha': np.arange(0.01, 0.1,0.01)}\n",
    "mulNB_model = grid_search(clf_mulNB, parameters, tfidf_train, y_train, n_folds=5, score_func= mlogloss)"
   ]
  },
  {
   "cell_type": "code",
   "execution_count": 21,
   "metadata": {},
   "outputs": [
    {
     "name": "stdout",
     "output_type": "stream",
     "text": [
      "------------- Naive Bayes -----------\n",
      "              precision    recall  f1-score   support\n",
      "\n",
      "           0       0.81      0.83      0.82      1580\n",
      "           1       0.83      0.80      0.82      1127\n",
      "           2       0.82      0.82      0.82      1208\n",
      "\n",
      "    accuracy                           0.82      3915\n",
      "   macro avg       0.82      0.82      0.82      3915\n",
      "weighted avg       0.82      0.82      0.82      3915\n",
      "\n"
     ]
    },
    {
     "data": {
      "text/html": [
       "<div>\n",
       "<style scoped>\n",
       "    .dataframe tbody tr th:only-of-type {\n",
       "        vertical-align: middle;\n",
       "    }\n",
       "\n",
       "    .dataframe tbody tr th {\n",
       "        vertical-align: top;\n",
       "    }\n",
       "\n",
       "    .dataframe thead th {\n",
       "        text-align: right;\n",
       "    }\n",
       "</style>\n",
       "<table border=\"1\" class=\"dataframe\">\n",
       "  <thead>\n",
       "    <tr style=\"text-align: right;\">\n",
       "      <th></th>\n",
       "      <th>Predicted EAP</th>\n",
       "      <th>Predicted HPL</th>\n",
       "      <th>predicted MWS</th>\n",
       "    </tr>\n",
       "  </thead>\n",
       "  <tbody>\n",
       "    <tr>\n",
       "      <th>Actual EAP</th>\n",
       "      <td>1318</td>\n",
       "      <td>118</td>\n",
       "      <td>144</td>\n",
       "    </tr>\n",
       "    <tr>\n",
       "      <th>Actual HPL</th>\n",
       "      <td>155</td>\n",
       "      <td>903</td>\n",
       "      <td>69</td>\n",
       "    </tr>\n",
       "    <tr>\n",
       "      <th>Actual MWS</th>\n",
       "      <td>153</td>\n",
       "      <td>65</td>\n",
       "      <td>990</td>\n",
       "    </tr>\n",
       "  </tbody>\n",
       "</table>\n",
       "</div>"
      ],
      "text/plain": [
       "            Predicted EAP  Predicted HPL  predicted MWS\n",
       "Actual EAP           1318            118            144\n",
       "Actual HPL            155            903             69\n",
       "Actual MWS            153             65            990"
      ]
     },
     "metadata": {},
     "output_type": "display_data"
    },
    {
     "name": "stdout",
     "output_type": "stream",
     "text": [
      "The multiclass logloss is 0.47171543459944715\n"
     ]
    }
   ],
   "source": [
    "print(\"------------- Naive Bayes -----------\")\n",
    "show_metrics(y_test, mulNB_model.predict(tfidf_test), mulNB_model.predict_proba(tfidf_test))"
   ]
  },
  {
   "cell_type": "code",
   "execution_count": 22,
   "metadata": {},
   "outputs": [
    {
     "name": "stdout",
     "output_type": "stream",
     "text": [
      "Best parameter values: {'alpha': 3}\n",
      " Best mean CV score = -0.4897 and std. dev. = 0.01628\n",
      "------------- Naive Bayes with Count vectorizer -----------\n",
      "              precision    recall  f1-score   support\n",
      "\n",
      "           0       0.82      0.80      0.81      1580\n",
      "           1       0.81      0.80      0.80      1127\n",
      "           2       0.80      0.82      0.81      1208\n",
      "\n",
      "    accuracy                           0.81      3915\n",
      "   macro avg       0.81      0.81      0.81      3915\n",
      "weighted avg       0.81      0.81      0.81      3915\n",
      "\n"
     ]
    },
    {
     "data": {
      "text/html": [
       "<div>\n",
       "<style scoped>\n",
       "    .dataframe tbody tr th:only-of-type {\n",
       "        vertical-align: middle;\n",
       "    }\n",
       "\n",
       "    .dataframe tbody tr th {\n",
       "        vertical-align: top;\n",
       "    }\n",
       "\n",
       "    .dataframe thead th {\n",
       "        text-align: right;\n",
       "    }\n",
       "</style>\n",
       "<table border=\"1\" class=\"dataframe\">\n",
       "  <thead>\n",
       "    <tr style=\"text-align: right;\">\n",
       "      <th></th>\n",
       "      <th>Predicted EAP</th>\n",
       "      <th>Predicted HPL</th>\n",
       "      <th>predicted MWS</th>\n",
       "    </tr>\n",
       "  </thead>\n",
       "  <tbody>\n",
       "    <tr>\n",
       "      <th>Actual EAP</th>\n",
       "      <td>1271</td>\n",
       "      <td>134</td>\n",
       "      <td>175</td>\n",
       "    </tr>\n",
       "    <tr>\n",
       "      <th>Actual HPL</th>\n",
       "      <td>156</td>\n",
       "      <td>896</td>\n",
       "      <td>75</td>\n",
       "    </tr>\n",
       "    <tr>\n",
       "      <th>Actual MWS</th>\n",
       "      <td>130</td>\n",
       "      <td>83</td>\n",
       "      <td>995</td>\n",
       "    </tr>\n",
       "  </tbody>\n",
       "</table>\n",
       "</div>"
      ],
      "text/plain": [
       "            Predicted EAP  Predicted HPL  predicted MWS\n",
       "Actual EAP           1271            134            175\n",
       "Actual HPL            156            896             75\n",
       "Actual MWS            130             83            995"
      ]
     },
     "metadata": {},
     "output_type": "display_data"
    },
    {
     "name": "stdout",
     "output_type": "stream",
     "text": [
      "The multiclass logloss is 0.49246883757328414\n"
     ]
    }
   ],
   "source": [
    "clf_mulNBcount = MultinomialNB()\n",
    "parameters = {'alpha': np.arange(1, 10,1)}\n",
    "mulNB_model_count = grid_search(clf_mulNBcount, parameters, countvec_train, y_train, n_folds = 5, score_func= mlogloss)\n",
    "\n",
    "print(\"------------- Naive Bayes with Count vectorizer -----------\")\n",
    "show_metrics(y_test, mulNB_model_count.predict(countvec_test), mulNB_model_count.predict_proba(countvec_test))"
   ]
  },
  {
   "cell_type": "code",
   "execution_count": 23,
   "metadata": {},
   "outputs": [
    {
     "name": "stdout",
     "output_type": "stream",
     "text": [
      "Mean CV score: -0.4896681602003466 and std. dev.: 0.01627615402618388\n"
     ]
    }
   ],
   "source": [
    "cv_scores = cross_val_score(mulNB_model_count,countvec_train,y_train, cv = 5, scoring = mlogloss)\n",
    "print(\"Mean CV score: {} and std. dev.: {}\".format(np.mean(cv_scores), np.std(cv_scores)))"
   ]
  },
  {
   "cell_type": "markdown",
   "metadata": {},
   "source": [
    "#### Logistic regression"
   ]
  },
  {
   "cell_type": "code",
   "execution_count": 24,
   "metadata": {},
   "outputs": [
    {
     "name": "stdout",
     "output_type": "stream",
     "text": [
      "Best parameter values: {'C': 5, 'penalty': 'l2'}\n",
      " Best mean CV score = -0.5014 and std. dev. = 0.008957\n"
     ]
    }
   ],
   "source": [
    "clf_logreg = LogisticRegression(solver='sag',random_state=23, class_weight= 'balanced')\n",
    "parameters = {'C': np.arange(1,11,1), 'penalty': ['l1', 'l2']}\n",
    "logreg_model = grid_search(clf_logreg, parameters, tfidf_train, y_train, n_folds=5, score_func=mlogloss)"
   ]
  },
  {
   "cell_type": "code",
   "execution_count": 25,
   "metadata": {},
   "outputs": [
    {
     "name": "stdout",
     "output_type": "stream",
     "text": [
      "------------- Logistic regression -----------\n",
      "              precision    recall  f1-score   support\n",
      "\n",
      "           0       0.80      0.80      0.80      1580\n",
      "           1       0.78      0.81      0.80      1127\n",
      "           2       0.81      0.80      0.80      1208\n",
      "\n",
      "    accuracy                           0.80      3915\n",
      "   macro avg       0.80      0.80      0.80      3915\n",
      "weighted avg       0.80      0.80      0.80      3915\n",
      "\n"
     ]
    },
    {
     "data": {
      "text/html": [
       "<div>\n",
       "<style scoped>\n",
       "    .dataframe tbody tr th:only-of-type {\n",
       "        vertical-align: middle;\n",
       "    }\n",
       "\n",
       "    .dataframe tbody tr th {\n",
       "        vertical-align: top;\n",
       "    }\n",
       "\n",
       "    .dataframe thead th {\n",
       "        text-align: right;\n",
       "    }\n",
       "</style>\n",
       "<table border=\"1\" class=\"dataframe\">\n",
       "  <thead>\n",
       "    <tr style=\"text-align: right;\">\n",
       "      <th></th>\n",
       "      <th>Predicted EAP</th>\n",
       "      <th>Predicted HPL</th>\n",
       "      <th>predicted MWS</th>\n",
       "    </tr>\n",
       "  </thead>\n",
       "  <tbody>\n",
       "    <tr>\n",
       "      <th>Actual EAP</th>\n",
       "      <td>1261</td>\n",
       "      <td>170</td>\n",
       "      <td>149</td>\n",
       "    </tr>\n",
       "    <tr>\n",
       "      <th>Actual HPL</th>\n",
       "      <td>144</td>\n",
       "      <td>912</td>\n",
       "      <td>71</td>\n",
       "    </tr>\n",
       "    <tr>\n",
       "      <th>Actual MWS</th>\n",
       "      <td>164</td>\n",
       "      <td>83</td>\n",
       "      <td>961</td>\n",
       "    </tr>\n",
       "  </tbody>\n",
       "</table>\n",
       "</div>"
      ],
      "text/plain": [
       "            Predicted EAP  Predicted HPL  predicted MWS\n",
       "Actual EAP           1261            170            149\n",
       "Actual HPL            144            912             71\n",
       "Actual MWS            164             83            961"
      ]
     },
     "metadata": {},
     "output_type": "display_data"
    },
    {
     "name": "stdout",
     "output_type": "stream",
     "text": [
      "The multiclass logloss is 0.485967595573491\n"
     ]
    }
   ],
   "source": [
    "print(\"------------- Logistic regression -----------\")\n",
    "show_metrics(y_test, logreg_model.predict(tfidf_test), logreg_model.predict_proba(tfidf_test))"
   ]
  },
  {
   "cell_type": "markdown",
   "metadata": {},
   "source": [
    "#### XGBoost"
   ]
  },
  {
   "cell_type": "code",
   "execution_count": 26,
   "metadata": {},
   "outputs": [
    {
     "name": "stdout",
     "output_type": "stream",
     "text": [
      "[0]\tvalidation_0-mlogloss:1.08808\tvalidation_1-mlogloss:1.08778\n",
      "Multiple eval metrics have been passed: 'validation_1-mlogloss' will be used for early stopping.\n",
      "\n",
      "Will train until validation_1-mlogloss hasn't improved in 50 rounds.\n",
      "[1]\tvalidation_0-mlogloss:1.07847\tvalidation_1-mlogloss:1.07836\n",
      "[2]\tvalidation_0-mlogloss:1.06907\tvalidation_1-mlogloss:1.06886\n",
      "[3]\tvalidation_0-mlogloss:1.05905\tvalidation_1-mlogloss:1.05952\n",
      "[4]\tvalidation_0-mlogloss:1.05038\tvalidation_1-mlogloss:1.05056\n",
      "[5]\tvalidation_0-mlogloss:1.04393\tvalidation_1-mlogloss:1.04384\n",
      "[6]\tvalidation_0-mlogloss:1.03708\tvalidation_1-mlogloss:1.03685\n",
      "[7]\tvalidation_0-mlogloss:1.03077\tvalidation_1-mlogloss:1.0306\n",
      "[8]\tvalidation_0-mlogloss:1.02474\tvalidation_1-mlogloss:1.025\n",
      "[9]\tvalidation_0-mlogloss:1.01998\tvalidation_1-mlogloss:1.02089\n",
      "[10]\tvalidation_0-mlogloss:1.0149\tvalidation_1-mlogloss:1.01603\n",
      "[11]\tvalidation_0-mlogloss:1.01057\tvalidation_1-mlogloss:1.01183\n",
      "[12]\tvalidation_0-mlogloss:1.00591\tvalidation_1-mlogloss:1.00801\n",
      "[13]\tvalidation_0-mlogloss:1.00218\tvalidation_1-mlogloss:1.00446\n",
      "[14]\tvalidation_0-mlogloss:0.997864\tvalidation_1-mlogloss:1.00034\n",
      "[15]\tvalidation_0-mlogloss:0.993944\tvalidation_1-mlogloss:0.99698\n",
      "[16]\tvalidation_0-mlogloss:0.990405\tvalidation_1-mlogloss:0.993854\n",
      "[17]\tvalidation_0-mlogloss:0.986837\tvalidation_1-mlogloss:0.991165\n",
      "[18]\tvalidation_0-mlogloss:0.983635\tvalidation_1-mlogloss:0.988164\n",
      "[19]\tvalidation_0-mlogloss:0.98002\tvalidation_1-mlogloss:0.985316\n",
      "[20]\tvalidation_0-mlogloss:0.976751\tvalidation_1-mlogloss:0.98205\n",
      "[21]\tvalidation_0-mlogloss:0.973627\tvalidation_1-mlogloss:0.979247\n",
      "[22]\tvalidation_0-mlogloss:0.970529\tvalidation_1-mlogloss:0.976107\n",
      "[23]\tvalidation_0-mlogloss:0.967701\tvalidation_1-mlogloss:0.973323\n",
      "[24]\tvalidation_0-mlogloss:0.964769\tvalidation_1-mlogloss:0.97066\n",
      "[25]\tvalidation_0-mlogloss:0.962006\tvalidation_1-mlogloss:0.968384\n",
      "[26]\tvalidation_0-mlogloss:0.959338\tvalidation_1-mlogloss:0.965897\n",
      "[27]\tvalidation_0-mlogloss:0.956575\tvalidation_1-mlogloss:0.9633\n",
      "[28]\tvalidation_0-mlogloss:0.953913\tvalidation_1-mlogloss:0.960832\n",
      "[29]\tvalidation_0-mlogloss:0.951287\tvalidation_1-mlogloss:0.959001\n",
      "[30]\tvalidation_0-mlogloss:0.948925\tvalidation_1-mlogloss:0.956582\n",
      "[31]\tvalidation_0-mlogloss:0.94645\tvalidation_1-mlogloss:0.954563\n",
      "[32]\tvalidation_0-mlogloss:0.94397\tvalidation_1-mlogloss:0.95293\n",
      "[33]\tvalidation_0-mlogloss:0.941522\tvalidation_1-mlogloss:0.951112\n",
      "[34]\tvalidation_0-mlogloss:0.93917\tvalidation_1-mlogloss:0.949066\n",
      "[35]\tvalidation_0-mlogloss:0.936923\tvalidation_1-mlogloss:0.946538\n",
      "[36]\tvalidation_0-mlogloss:0.934587\tvalidation_1-mlogloss:0.945079\n",
      "[37]\tvalidation_0-mlogloss:0.932327\tvalidation_1-mlogloss:0.94293\n",
      "[38]\tvalidation_0-mlogloss:0.929985\tvalidation_1-mlogloss:0.940897\n",
      "[39]\tvalidation_0-mlogloss:0.927876\tvalidation_1-mlogloss:0.939195\n",
      "[40]\tvalidation_0-mlogloss:0.925692\tvalidation_1-mlogloss:0.937229\n",
      "[41]\tvalidation_0-mlogloss:0.923595\tvalidation_1-mlogloss:0.935472\n",
      "[42]\tvalidation_0-mlogloss:0.921549\tvalidation_1-mlogloss:0.933959\n",
      "[43]\tvalidation_0-mlogloss:0.919423\tvalidation_1-mlogloss:0.932179\n",
      "[44]\tvalidation_0-mlogloss:0.917437\tvalidation_1-mlogloss:0.930138\n",
      "[45]\tvalidation_0-mlogloss:0.915399\tvalidation_1-mlogloss:0.928808\n",
      "[46]\tvalidation_0-mlogloss:0.91337\tvalidation_1-mlogloss:0.927095\n",
      "[47]\tvalidation_0-mlogloss:0.911497\tvalidation_1-mlogloss:0.925608\n",
      "[48]\tvalidation_0-mlogloss:0.909411\tvalidation_1-mlogloss:0.923804\n",
      "[49]\tvalidation_0-mlogloss:0.907452\tvalidation_1-mlogloss:0.92171\n",
      "[50]\tvalidation_0-mlogloss:0.905631\tvalidation_1-mlogloss:0.920182\n",
      "[51]\tvalidation_0-mlogloss:0.903804\tvalidation_1-mlogloss:0.918926\n",
      "[52]\tvalidation_0-mlogloss:0.901961\tvalidation_1-mlogloss:0.916999\n",
      "[53]\tvalidation_0-mlogloss:0.900186\tvalidation_1-mlogloss:0.915391\n",
      "[54]\tvalidation_0-mlogloss:0.898379\tvalidation_1-mlogloss:0.913875\n",
      "[55]\tvalidation_0-mlogloss:0.896558\tvalidation_1-mlogloss:0.912359\n",
      "[56]\tvalidation_0-mlogloss:0.894793\tvalidation_1-mlogloss:0.910885\n",
      "[57]\tvalidation_0-mlogloss:0.893054\tvalidation_1-mlogloss:0.909323\n",
      "[58]\tvalidation_0-mlogloss:0.89133\tvalidation_1-mlogloss:0.907691\n",
      "[59]\tvalidation_0-mlogloss:0.889652\tvalidation_1-mlogloss:0.906369\n",
      "[60]\tvalidation_0-mlogloss:0.887965\tvalidation_1-mlogloss:0.904883\n",
      "[61]\tvalidation_0-mlogloss:0.886265\tvalidation_1-mlogloss:0.903537\n",
      "[62]\tvalidation_0-mlogloss:0.884634\tvalidation_1-mlogloss:0.902426\n",
      "[63]\tvalidation_0-mlogloss:0.883011\tvalidation_1-mlogloss:0.900895\n",
      "[64]\tvalidation_0-mlogloss:0.881433\tvalidation_1-mlogloss:0.899343\n",
      "[65]\tvalidation_0-mlogloss:0.879834\tvalidation_1-mlogloss:0.898395\n",
      "[66]\tvalidation_0-mlogloss:0.878298\tvalidation_1-mlogloss:0.897417\n",
      "[67]\tvalidation_0-mlogloss:0.876767\tvalidation_1-mlogloss:0.896309\n",
      "[68]\tvalidation_0-mlogloss:0.875309\tvalidation_1-mlogloss:0.895095\n",
      "[69]\tvalidation_0-mlogloss:0.873866\tvalidation_1-mlogloss:0.894155\n",
      "[70]\tvalidation_0-mlogloss:0.872273\tvalidation_1-mlogloss:0.892828\n",
      "[71]\tvalidation_0-mlogloss:0.870761\tvalidation_1-mlogloss:0.891875\n",
      "[72]\tvalidation_0-mlogloss:0.869187\tvalidation_1-mlogloss:0.89049\n",
      "[73]\tvalidation_0-mlogloss:0.867711\tvalidation_1-mlogloss:0.88915\n",
      "[74]\tvalidation_0-mlogloss:0.866185\tvalidation_1-mlogloss:0.887734\n",
      "[75]\tvalidation_0-mlogloss:0.864645\tvalidation_1-mlogloss:0.886584\n",
      "[76]\tvalidation_0-mlogloss:0.86315\tvalidation_1-mlogloss:0.8854\n",
      "[77]\tvalidation_0-mlogloss:0.861761\tvalidation_1-mlogloss:0.884274\n",
      "[78]\tvalidation_0-mlogloss:0.860272\tvalidation_1-mlogloss:0.883315\n",
      "[79]\tvalidation_0-mlogloss:0.858881\tvalidation_1-mlogloss:0.882342\n",
      "[80]\tvalidation_0-mlogloss:0.857524\tvalidation_1-mlogloss:0.881149\n",
      "[81]\tvalidation_0-mlogloss:0.856124\tvalidation_1-mlogloss:0.880192\n",
      "[82]\tvalidation_0-mlogloss:0.854728\tvalidation_1-mlogloss:0.879113\n",
      "[83]\tvalidation_0-mlogloss:0.853391\tvalidation_1-mlogloss:0.877837\n",
      "[84]\tvalidation_0-mlogloss:0.85208\tvalidation_1-mlogloss:0.876696\n",
      "[85]\tvalidation_0-mlogloss:0.850715\tvalidation_1-mlogloss:0.875533\n",
      "[86]\tvalidation_0-mlogloss:0.849331\tvalidation_1-mlogloss:0.874638\n",
      "[87]\tvalidation_0-mlogloss:0.848054\tvalidation_1-mlogloss:0.873682\n",
      "[88]\tvalidation_0-mlogloss:0.846842\tvalidation_1-mlogloss:0.872697\n",
      "[89]\tvalidation_0-mlogloss:0.845555\tvalidation_1-mlogloss:0.871794\n",
      "[90]\tvalidation_0-mlogloss:0.844314\tvalidation_1-mlogloss:0.870915\n",
      "[91]\tvalidation_0-mlogloss:0.843123\tvalidation_1-mlogloss:0.870023\n",
      "[92]\tvalidation_0-mlogloss:0.841833\tvalidation_1-mlogloss:0.868759\n",
      "[93]\tvalidation_0-mlogloss:0.840653\tvalidation_1-mlogloss:0.867984\n",
      "[94]\tvalidation_0-mlogloss:0.839475\tvalidation_1-mlogloss:0.86718\n",
      "[95]\tvalidation_0-mlogloss:0.83828\tvalidation_1-mlogloss:0.866156\n",
      "[96]\tvalidation_0-mlogloss:0.837058\tvalidation_1-mlogloss:0.865338\n",
      "[97]\tvalidation_0-mlogloss:0.835857\tvalidation_1-mlogloss:0.864395\n",
      "[98]\tvalidation_0-mlogloss:0.834659\tvalidation_1-mlogloss:0.86356\n",
      "[99]\tvalidation_0-mlogloss:0.833493\tvalidation_1-mlogloss:0.862484\n",
      "[100]\tvalidation_0-mlogloss:0.832273\tvalidation_1-mlogloss:0.861602\n",
      "[101]\tvalidation_0-mlogloss:0.831064\tvalidation_1-mlogloss:0.860488\n",
      "[102]\tvalidation_0-mlogloss:0.829862\tvalidation_1-mlogloss:0.85978\n",
      "[103]\tvalidation_0-mlogloss:0.828732\tvalidation_1-mlogloss:0.858871\n",
      "[104]\tvalidation_0-mlogloss:0.827555\tvalidation_1-mlogloss:0.858061\n",
      "[105]\tvalidation_0-mlogloss:0.826347\tvalidation_1-mlogloss:0.857125\n",
      "[106]\tvalidation_0-mlogloss:0.82513\tvalidation_1-mlogloss:0.856249\n",
      "[107]\tvalidation_0-mlogloss:0.82408\tvalidation_1-mlogloss:0.855328\n",
      "[108]\tvalidation_0-mlogloss:0.823021\tvalidation_1-mlogloss:0.854592\n",
      "[109]\tvalidation_0-mlogloss:0.821897\tvalidation_1-mlogloss:0.853665\n",
      "[110]\tvalidation_0-mlogloss:0.820785\tvalidation_1-mlogloss:0.85306\n",
      "[111]\tvalidation_0-mlogloss:0.81969\tvalidation_1-mlogloss:0.852196\n",
      "[112]\tvalidation_0-mlogloss:0.818647\tvalidation_1-mlogloss:0.851157\n",
      "[113]\tvalidation_0-mlogloss:0.817595\tvalidation_1-mlogloss:0.850367\n",
      "[114]\tvalidation_0-mlogloss:0.816439\tvalidation_1-mlogloss:0.84982\n",
      "[115]\tvalidation_0-mlogloss:0.81529\tvalidation_1-mlogloss:0.848862\n",
      "[116]\tvalidation_0-mlogloss:0.814209\tvalidation_1-mlogloss:0.848377\n",
      "[117]\tvalidation_0-mlogloss:0.813193\tvalidation_1-mlogloss:0.847544\n",
      "[118]\tvalidation_0-mlogloss:0.812102\tvalidation_1-mlogloss:0.846488\n",
      "[119]\tvalidation_0-mlogloss:0.811056\tvalidation_1-mlogloss:0.845333\n",
      "[120]\tvalidation_0-mlogloss:0.810037\tvalidation_1-mlogloss:0.844583\n"
     ]
    },
    {
     "name": "stdout",
     "output_type": "stream",
     "text": [
      "[121]\tvalidation_0-mlogloss:0.808955\tvalidation_1-mlogloss:0.843721\n",
      "[122]\tvalidation_0-mlogloss:0.807959\tvalidation_1-mlogloss:0.842842\n",
      "[123]\tvalidation_0-mlogloss:0.806934\tvalidation_1-mlogloss:0.841988\n",
      "[124]\tvalidation_0-mlogloss:0.805923\tvalidation_1-mlogloss:0.841139\n",
      "[125]\tvalidation_0-mlogloss:0.804926\tvalidation_1-mlogloss:0.840306\n",
      "[126]\tvalidation_0-mlogloss:0.80395\tvalidation_1-mlogloss:0.839609\n",
      "[127]\tvalidation_0-mlogloss:0.802985\tvalidation_1-mlogloss:0.83883\n",
      "[128]\tvalidation_0-mlogloss:0.802006\tvalidation_1-mlogloss:0.838102\n",
      "[129]\tvalidation_0-mlogloss:0.80104\tvalidation_1-mlogloss:0.837355\n",
      "[130]\tvalidation_0-mlogloss:0.799952\tvalidation_1-mlogloss:0.83654\n",
      "[131]\tvalidation_0-mlogloss:0.799043\tvalidation_1-mlogloss:0.835852\n",
      "[132]\tvalidation_0-mlogloss:0.798121\tvalidation_1-mlogloss:0.834942\n",
      "[133]\tvalidation_0-mlogloss:0.797162\tvalidation_1-mlogloss:0.834428\n",
      "[134]\tvalidation_0-mlogloss:0.796103\tvalidation_1-mlogloss:0.834\n",
      "[135]\tvalidation_0-mlogloss:0.795153\tvalidation_1-mlogloss:0.833212\n",
      "[136]\tvalidation_0-mlogloss:0.794201\tvalidation_1-mlogloss:0.832642\n",
      "[137]\tvalidation_0-mlogloss:0.793305\tvalidation_1-mlogloss:0.831877\n",
      "[138]\tvalidation_0-mlogloss:0.792348\tvalidation_1-mlogloss:0.831055\n",
      "[139]\tvalidation_0-mlogloss:0.791369\tvalidation_1-mlogloss:0.830674\n",
      "[140]\tvalidation_0-mlogloss:0.790484\tvalidation_1-mlogloss:0.830176\n",
      "[141]\tvalidation_0-mlogloss:0.789611\tvalidation_1-mlogloss:0.829567\n",
      "[142]\tvalidation_0-mlogloss:0.78868\tvalidation_1-mlogloss:0.828885\n",
      "[143]\tvalidation_0-mlogloss:0.787788\tvalidation_1-mlogloss:0.828152\n",
      "[144]\tvalidation_0-mlogloss:0.786893\tvalidation_1-mlogloss:0.827255\n",
      "[145]\tvalidation_0-mlogloss:0.785987\tvalidation_1-mlogloss:0.826696\n",
      "[146]\tvalidation_0-mlogloss:0.785131\tvalidation_1-mlogloss:0.82603\n",
      "[147]\tvalidation_0-mlogloss:0.784254\tvalidation_1-mlogloss:0.82545\n",
      "[148]\tvalidation_0-mlogloss:0.78333\tvalidation_1-mlogloss:0.824857\n",
      "[149]\tvalidation_0-mlogloss:0.782447\tvalidation_1-mlogloss:0.824267\n",
      "[150]\tvalidation_0-mlogloss:0.781572\tvalidation_1-mlogloss:0.823379\n",
      "[151]\tvalidation_0-mlogloss:0.780665\tvalidation_1-mlogloss:0.82283\n",
      "[152]\tvalidation_0-mlogloss:0.779725\tvalidation_1-mlogloss:0.822224\n",
      "[153]\tvalidation_0-mlogloss:0.778885\tvalidation_1-mlogloss:0.821714\n",
      "[154]\tvalidation_0-mlogloss:0.778032\tvalidation_1-mlogloss:0.8209\n",
      "[155]\tvalidation_0-mlogloss:0.777175\tvalidation_1-mlogloss:0.820279\n",
      "[156]\tvalidation_0-mlogloss:0.776306\tvalidation_1-mlogloss:0.819689\n",
      "[157]\tvalidation_0-mlogloss:0.775447\tvalidation_1-mlogloss:0.81921\n",
      "[158]\tvalidation_0-mlogloss:0.774587\tvalidation_1-mlogloss:0.818659\n",
      "[159]\tvalidation_0-mlogloss:0.773743\tvalidation_1-mlogloss:0.818007\n",
      "[160]\tvalidation_0-mlogloss:0.772803\tvalidation_1-mlogloss:0.817329\n",
      "[161]\tvalidation_0-mlogloss:0.77198\tvalidation_1-mlogloss:0.81693\n",
      "[162]\tvalidation_0-mlogloss:0.771133\tvalidation_1-mlogloss:0.816485\n",
      "[163]\tvalidation_0-mlogloss:0.770245\tvalidation_1-mlogloss:0.815847\n",
      "[164]\tvalidation_0-mlogloss:0.769402\tvalidation_1-mlogloss:0.81517\n",
      "[165]\tvalidation_0-mlogloss:0.768604\tvalidation_1-mlogloss:0.814554\n",
      "[166]\tvalidation_0-mlogloss:0.767773\tvalidation_1-mlogloss:0.813797\n",
      "[167]\tvalidation_0-mlogloss:0.766897\tvalidation_1-mlogloss:0.813172\n",
      "[168]\tvalidation_0-mlogloss:0.766127\tvalidation_1-mlogloss:0.812595\n",
      "[169]\tvalidation_0-mlogloss:0.765323\tvalidation_1-mlogloss:0.811903\n",
      "[170]\tvalidation_0-mlogloss:0.764521\tvalidation_1-mlogloss:0.811278\n",
      "[171]\tvalidation_0-mlogloss:0.763704\tvalidation_1-mlogloss:0.810842\n",
      "[172]\tvalidation_0-mlogloss:0.762918\tvalidation_1-mlogloss:0.810282\n",
      "[173]\tvalidation_0-mlogloss:0.762134\tvalidation_1-mlogloss:0.809707\n",
      "[174]\tvalidation_0-mlogloss:0.761355\tvalidation_1-mlogloss:0.809099\n",
      "[175]\tvalidation_0-mlogloss:0.760565\tvalidation_1-mlogloss:0.808513\n",
      "[176]\tvalidation_0-mlogloss:0.759763\tvalidation_1-mlogloss:0.807861\n",
      "[177]\tvalidation_0-mlogloss:0.758941\tvalidation_1-mlogloss:0.807503\n",
      "[178]\tvalidation_0-mlogloss:0.758168\tvalidation_1-mlogloss:0.806931\n",
      "[179]\tvalidation_0-mlogloss:0.757416\tvalidation_1-mlogloss:0.80641\n",
      "[180]\tvalidation_0-mlogloss:0.756607\tvalidation_1-mlogloss:0.805819\n",
      "[181]\tvalidation_0-mlogloss:0.755879\tvalidation_1-mlogloss:0.805239\n",
      "[182]\tvalidation_0-mlogloss:0.755112\tvalidation_1-mlogloss:0.804685\n",
      "[183]\tvalidation_0-mlogloss:0.754385\tvalidation_1-mlogloss:0.80414\n",
      "[184]\tvalidation_0-mlogloss:0.753666\tvalidation_1-mlogloss:0.803649\n",
      "[185]\tvalidation_0-mlogloss:0.752944\tvalidation_1-mlogloss:0.803361\n",
      "[186]\tvalidation_0-mlogloss:0.752227\tvalidation_1-mlogloss:0.802849\n",
      "[187]\tvalidation_0-mlogloss:0.751458\tvalidation_1-mlogloss:0.802322\n",
      "[188]\tvalidation_0-mlogloss:0.75068\tvalidation_1-mlogloss:0.801607\n",
      "[189]\tvalidation_0-mlogloss:0.74996\tvalidation_1-mlogloss:0.80112\n",
      "[190]\tvalidation_0-mlogloss:0.749179\tvalidation_1-mlogloss:0.80037\n",
      "[191]\tvalidation_0-mlogloss:0.748469\tvalidation_1-mlogloss:0.799965\n",
      "[192]\tvalidation_0-mlogloss:0.747714\tvalidation_1-mlogloss:0.799567\n",
      "[193]\tvalidation_0-mlogloss:0.747009\tvalidation_1-mlogloss:0.798979\n",
      "[194]\tvalidation_0-mlogloss:0.746304\tvalidation_1-mlogloss:0.798375\n",
      "[195]\tvalidation_0-mlogloss:0.745583\tvalidation_1-mlogloss:0.797819\n",
      "[196]\tvalidation_0-mlogloss:0.744865\tvalidation_1-mlogloss:0.797242\n",
      "[197]\tvalidation_0-mlogloss:0.74415\tvalidation_1-mlogloss:0.796697\n",
      "[198]\tvalidation_0-mlogloss:0.74343\tvalidation_1-mlogloss:0.796227\n",
      "[199]\tvalidation_0-mlogloss:0.742755\tvalidation_1-mlogloss:0.795714\n",
      "[200]\tvalidation_0-mlogloss:0.742066\tvalidation_1-mlogloss:0.795197\n",
      "[201]\tvalidation_0-mlogloss:0.741319\tvalidation_1-mlogloss:0.794469\n",
      "[202]\tvalidation_0-mlogloss:0.740615\tvalidation_1-mlogloss:0.794019\n",
      "[203]\tvalidation_0-mlogloss:0.739936\tvalidation_1-mlogloss:0.793434\n",
      "[204]\tvalidation_0-mlogloss:0.739186\tvalidation_1-mlogloss:0.79308\n",
      "[205]\tvalidation_0-mlogloss:0.738495\tvalidation_1-mlogloss:0.792675\n",
      "[206]\tvalidation_0-mlogloss:0.737743\tvalidation_1-mlogloss:0.792324\n",
      "[207]\tvalidation_0-mlogloss:0.737069\tvalidation_1-mlogloss:0.791965\n",
      "[208]\tvalidation_0-mlogloss:0.736314\tvalidation_1-mlogloss:0.79135\n",
      "[209]\tvalidation_0-mlogloss:0.735625\tvalidation_1-mlogloss:0.790926\n",
      "[210]\tvalidation_0-mlogloss:0.734956\tvalidation_1-mlogloss:0.79048\n",
      "[211]\tvalidation_0-mlogloss:0.734271\tvalidation_1-mlogloss:0.790112\n",
      "[212]\tvalidation_0-mlogloss:0.733576\tvalidation_1-mlogloss:0.789644\n",
      "[213]\tvalidation_0-mlogloss:0.732908\tvalidation_1-mlogloss:0.789218\n",
      "[214]\tvalidation_0-mlogloss:0.732238\tvalidation_1-mlogloss:0.788912\n",
      "[215]\tvalidation_0-mlogloss:0.731555\tvalidation_1-mlogloss:0.78841\n",
      "[216]\tvalidation_0-mlogloss:0.730846\tvalidation_1-mlogloss:0.788074\n",
      "[217]\tvalidation_0-mlogloss:0.730157\tvalidation_1-mlogloss:0.787484\n",
      "[218]\tvalidation_0-mlogloss:0.729504\tvalidation_1-mlogloss:0.786975\n",
      "[219]\tvalidation_0-mlogloss:0.728846\tvalidation_1-mlogloss:0.786469\n",
      "[220]\tvalidation_0-mlogloss:0.728144\tvalidation_1-mlogloss:0.785874\n",
      "[221]\tvalidation_0-mlogloss:0.727446\tvalidation_1-mlogloss:0.785646\n",
      "[222]\tvalidation_0-mlogloss:0.726775\tvalidation_1-mlogloss:0.785206\n",
      "[223]\tvalidation_0-mlogloss:0.726105\tvalidation_1-mlogloss:0.78468\n",
      "[224]\tvalidation_0-mlogloss:0.725462\tvalidation_1-mlogloss:0.784116\n",
      "[225]\tvalidation_0-mlogloss:0.724812\tvalidation_1-mlogloss:0.783633\n",
      "[226]\tvalidation_0-mlogloss:0.724149\tvalidation_1-mlogloss:0.783293\n",
      "[227]\tvalidation_0-mlogloss:0.723458\tvalidation_1-mlogloss:0.782787\n",
      "[228]\tvalidation_0-mlogloss:0.722848\tvalidation_1-mlogloss:0.78234\n",
      "[229]\tvalidation_0-mlogloss:0.722218\tvalidation_1-mlogloss:0.78192\n",
      "[230]\tvalidation_0-mlogloss:0.721529\tvalidation_1-mlogloss:0.781389\n",
      "[231]\tvalidation_0-mlogloss:0.720835\tvalidation_1-mlogloss:0.781034\n",
      "[232]\tvalidation_0-mlogloss:0.720197\tvalidation_1-mlogloss:0.780635\n",
      "[233]\tvalidation_0-mlogloss:0.719556\tvalidation_1-mlogloss:0.780065\n",
      "[234]\tvalidation_0-mlogloss:0.718857\tvalidation_1-mlogloss:0.779528\n",
      "[235]\tvalidation_0-mlogloss:0.718244\tvalidation_1-mlogloss:0.778973\n",
      "[236]\tvalidation_0-mlogloss:0.717635\tvalidation_1-mlogloss:0.778502\n",
      "[237]\tvalidation_0-mlogloss:0.717044\tvalidation_1-mlogloss:0.777861\n",
      "[238]\tvalidation_0-mlogloss:0.716418\tvalidation_1-mlogloss:0.777247\n",
      "[239]\tvalidation_0-mlogloss:0.715789\tvalidation_1-mlogloss:0.77697\n",
      "[240]\tvalidation_0-mlogloss:0.715128\tvalidation_1-mlogloss:0.776642\n",
      "[241]\tvalidation_0-mlogloss:0.714525\tvalidation_1-mlogloss:0.7764\n",
      "[242]\tvalidation_0-mlogloss:0.713925\tvalidation_1-mlogloss:0.775975\n"
     ]
    },
    {
     "name": "stdout",
     "output_type": "stream",
     "text": [
      "[243]\tvalidation_0-mlogloss:0.713357\tvalidation_1-mlogloss:0.775497\n",
      "[244]\tvalidation_0-mlogloss:0.71275\tvalidation_1-mlogloss:0.775201\n",
      "[245]\tvalidation_0-mlogloss:0.712143\tvalidation_1-mlogloss:0.77469\n",
      "[246]\tvalidation_0-mlogloss:0.711581\tvalidation_1-mlogloss:0.774323\n",
      "[247]\tvalidation_0-mlogloss:0.710961\tvalidation_1-mlogloss:0.773822\n",
      "[248]\tvalidation_0-mlogloss:0.710383\tvalidation_1-mlogloss:0.77328\n",
      "[249]\tvalidation_0-mlogloss:0.709725\tvalidation_1-mlogloss:0.772921\n",
      "[250]\tvalidation_0-mlogloss:0.709138\tvalidation_1-mlogloss:0.772515\n",
      "[251]\tvalidation_0-mlogloss:0.708558\tvalidation_1-mlogloss:0.771952\n",
      "[252]\tvalidation_0-mlogloss:0.707945\tvalidation_1-mlogloss:0.771674\n",
      "[253]\tvalidation_0-mlogloss:0.707379\tvalidation_1-mlogloss:0.771058\n",
      "[254]\tvalidation_0-mlogloss:0.706801\tvalidation_1-mlogloss:0.770811\n",
      "[255]\tvalidation_0-mlogloss:0.706222\tvalidation_1-mlogloss:0.770398\n",
      "[256]\tvalidation_0-mlogloss:0.705653\tvalidation_1-mlogloss:0.770145\n",
      "[257]\tvalidation_0-mlogloss:0.705055\tvalidation_1-mlogloss:0.769694\n",
      "[258]\tvalidation_0-mlogloss:0.704506\tvalidation_1-mlogloss:0.76923\n",
      "[259]\tvalidation_0-mlogloss:0.703957\tvalidation_1-mlogloss:0.768881\n",
      "[260]\tvalidation_0-mlogloss:0.703384\tvalidation_1-mlogloss:0.768569\n",
      "[261]\tvalidation_0-mlogloss:0.702847\tvalidation_1-mlogloss:0.768212\n",
      "[262]\tvalidation_0-mlogloss:0.702285\tvalidation_1-mlogloss:0.76784\n",
      "[263]\tvalidation_0-mlogloss:0.701653\tvalidation_1-mlogloss:0.767454\n",
      "[264]\tvalidation_0-mlogloss:0.701109\tvalidation_1-mlogloss:0.767065\n",
      "[265]\tvalidation_0-mlogloss:0.700581\tvalidation_1-mlogloss:0.766808\n",
      "[266]\tvalidation_0-mlogloss:0.700021\tvalidation_1-mlogloss:0.766287\n",
      "[267]\tvalidation_0-mlogloss:0.699436\tvalidation_1-mlogloss:0.766009\n",
      "[268]\tvalidation_0-mlogloss:0.69884\tvalidation_1-mlogloss:0.76551\n",
      "[269]\tvalidation_0-mlogloss:0.698261\tvalidation_1-mlogloss:0.765168\n",
      "[270]\tvalidation_0-mlogloss:0.697707\tvalidation_1-mlogloss:0.764773\n",
      "[271]\tvalidation_0-mlogloss:0.697178\tvalidation_1-mlogloss:0.764341\n",
      "[272]\tvalidation_0-mlogloss:0.69662\tvalidation_1-mlogloss:0.763854\n",
      "[273]\tvalidation_0-mlogloss:0.696032\tvalidation_1-mlogloss:0.763603\n",
      "[274]\tvalidation_0-mlogloss:0.695476\tvalidation_1-mlogloss:0.763122\n",
      "[275]\tvalidation_0-mlogloss:0.694952\tvalidation_1-mlogloss:0.762891\n",
      "[276]\tvalidation_0-mlogloss:0.694427\tvalidation_1-mlogloss:0.762576\n",
      "[277]\tvalidation_0-mlogloss:0.693892\tvalidation_1-mlogloss:0.762235\n",
      "[278]\tvalidation_0-mlogloss:0.693333\tvalidation_1-mlogloss:0.761942\n",
      "[279]\tvalidation_0-mlogloss:0.692808\tvalidation_1-mlogloss:0.761688\n",
      "[280]\tvalidation_0-mlogloss:0.692209\tvalidation_1-mlogloss:0.761339\n",
      "[281]\tvalidation_0-mlogloss:0.69168\tvalidation_1-mlogloss:0.760867\n",
      "[282]\tvalidation_0-mlogloss:0.691095\tvalidation_1-mlogloss:0.760553\n",
      "[283]\tvalidation_0-mlogloss:0.690556\tvalidation_1-mlogloss:0.760002\n",
      "[284]\tvalidation_0-mlogloss:0.68997\tvalidation_1-mlogloss:0.759451\n",
      "[285]\tvalidation_0-mlogloss:0.689423\tvalidation_1-mlogloss:0.759039\n",
      "[286]\tvalidation_0-mlogloss:0.688887\tvalidation_1-mlogloss:0.758599\n",
      "[287]\tvalidation_0-mlogloss:0.68828\tvalidation_1-mlogloss:0.758293\n",
      "[288]\tvalidation_0-mlogloss:0.687744\tvalidation_1-mlogloss:0.757896\n",
      "[289]\tvalidation_0-mlogloss:0.687251\tvalidation_1-mlogloss:0.757576\n",
      "[290]\tvalidation_0-mlogloss:0.68673\tvalidation_1-mlogloss:0.757364\n",
      "[291]\tvalidation_0-mlogloss:0.686209\tvalidation_1-mlogloss:0.757101\n",
      "[292]\tvalidation_0-mlogloss:0.685695\tvalidation_1-mlogloss:0.756857\n",
      "[293]\tvalidation_0-mlogloss:0.685146\tvalidation_1-mlogloss:0.756503\n",
      "[294]\tvalidation_0-mlogloss:0.684623\tvalidation_1-mlogloss:0.756216\n",
      "[295]\tvalidation_0-mlogloss:0.68405\tvalidation_1-mlogloss:0.755798\n",
      "[296]\tvalidation_0-mlogloss:0.683502\tvalidation_1-mlogloss:0.755327\n",
      "[297]\tvalidation_0-mlogloss:0.68302\tvalidation_1-mlogloss:0.755059\n",
      "[298]\tvalidation_0-mlogloss:0.682486\tvalidation_1-mlogloss:0.754863\n",
      "[299]\tvalidation_0-mlogloss:0.681988\tvalidation_1-mlogloss:0.754542\n",
      "[300]\tvalidation_0-mlogloss:0.681454\tvalidation_1-mlogloss:0.754192\n",
      "[301]\tvalidation_0-mlogloss:0.680948\tvalidation_1-mlogloss:0.753784\n",
      "[302]\tvalidation_0-mlogloss:0.680457\tvalidation_1-mlogloss:0.753553\n",
      "[303]\tvalidation_0-mlogloss:0.679923\tvalidation_1-mlogloss:0.753054\n",
      "[304]\tvalidation_0-mlogloss:0.679406\tvalidation_1-mlogloss:0.752806\n",
      "[305]\tvalidation_0-mlogloss:0.678884\tvalidation_1-mlogloss:0.7525\n",
      "[306]\tvalidation_0-mlogloss:0.678367\tvalidation_1-mlogloss:0.752154\n",
      "[307]\tvalidation_0-mlogloss:0.677834\tvalidation_1-mlogloss:0.751667\n",
      "[308]\tvalidation_0-mlogloss:0.677295\tvalidation_1-mlogloss:0.751317\n",
      "[309]\tvalidation_0-mlogloss:0.676778\tvalidation_1-mlogloss:0.750921\n",
      "[310]\tvalidation_0-mlogloss:0.676292\tvalidation_1-mlogloss:0.750671\n",
      "[311]\tvalidation_0-mlogloss:0.675792\tvalidation_1-mlogloss:0.750065\n",
      "[312]\tvalidation_0-mlogloss:0.675308\tvalidation_1-mlogloss:0.749687\n",
      "[313]\tvalidation_0-mlogloss:0.674795\tvalidation_1-mlogloss:0.749379\n",
      "[314]\tvalidation_0-mlogloss:0.674303\tvalidation_1-mlogloss:0.748954\n",
      "[315]\tvalidation_0-mlogloss:0.673805\tvalidation_1-mlogloss:0.748573\n",
      "[316]\tvalidation_0-mlogloss:0.673258\tvalidation_1-mlogloss:0.748268\n",
      "[317]\tvalidation_0-mlogloss:0.672713\tvalidation_1-mlogloss:0.748088\n",
      "[318]\tvalidation_0-mlogloss:0.672236\tvalidation_1-mlogloss:0.747838\n",
      "[319]\tvalidation_0-mlogloss:0.67172\tvalidation_1-mlogloss:0.747472\n",
      "[320]\tvalidation_0-mlogloss:0.671236\tvalidation_1-mlogloss:0.747152\n",
      "[321]\tvalidation_0-mlogloss:0.670736\tvalidation_1-mlogloss:0.746906\n",
      "[322]\tvalidation_0-mlogloss:0.670202\tvalidation_1-mlogloss:0.746615\n",
      "[323]\tvalidation_0-mlogloss:0.66969\tvalidation_1-mlogloss:0.74638\n",
      "[324]\tvalidation_0-mlogloss:0.669179\tvalidation_1-mlogloss:0.7459\n",
      "[325]\tvalidation_0-mlogloss:0.668708\tvalidation_1-mlogloss:0.74578\n",
      "[326]\tvalidation_0-mlogloss:0.668222\tvalidation_1-mlogloss:0.745525\n",
      "[327]\tvalidation_0-mlogloss:0.667775\tvalidation_1-mlogloss:0.745212\n",
      "[328]\tvalidation_0-mlogloss:0.667301\tvalidation_1-mlogloss:0.744885\n",
      "[329]\tvalidation_0-mlogloss:0.666806\tvalidation_1-mlogloss:0.74448\n",
      "[330]\tvalidation_0-mlogloss:0.666283\tvalidation_1-mlogloss:0.744096\n",
      "[331]\tvalidation_0-mlogloss:0.665829\tvalidation_1-mlogloss:0.743665\n",
      "[332]\tvalidation_0-mlogloss:0.665327\tvalidation_1-mlogloss:0.743358\n",
      "[333]\tvalidation_0-mlogloss:0.664819\tvalidation_1-mlogloss:0.742975\n",
      "[334]\tvalidation_0-mlogloss:0.664357\tvalidation_1-mlogloss:0.742665\n",
      "[335]\tvalidation_0-mlogloss:0.663894\tvalidation_1-mlogloss:0.742302\n",
      "[336]\tvalidation_0-mlogloss:0.663428\tvalidation_1-mlogloss:0.742003\n",
      "[337]\tvalidation_0-mlogloss:0.662944\tvalidation_1-mlogloss:0.741733\n",
      "[338]\tvalidation_0-mlogloss:0.662487\tvalidation_1-mlogloss:0.741493\n",
      "[339]\tvalidation_0-mlogloss:0.661998\tvalidation_1-mlogloss:0.741032\n",
      "[340]\tvalidation_0-mlogloss:0.661544\tvalidation_1-mlogloss:0.740773\n",
      "[341]\tvalidation_0-mlogloss:0.660926\tvalidation_1-mlogloss:0.740373\n",
      "[342]\tvalidation_0-mlogloss:0.660459\tvalidation_1-mlogloss:0.740098\n",
      "[343]\tvalidation_0-mlogloss:0.659983\tvalidation_1-mlogloss:0.739785\n",
      "[344]\tvalidation_0-mlogloss:0.659547\tvalidation_1-mlogloss:0.739447\n",
      "[345]\tvalidation_0-mlogloss:0.659099\tvalidation_1-mlogloss:0.739171\n",
      "[346]\tvalidation_0-mlogloss:0.658608\tvalidation_1-mlogloss:0.73882\n",
      "[347]\tvalidation_0-mlogloss:0.65817\tvalidation_1-mlogloss:0.738513\n",
      "[348]\tvalidation_0-mlogloss:0.657647\tvalidation_1-mlogloss:0.738317\n",
      "[349]\tvalidation_0-mlogloss:0.657167\tvalidation_1-mlogloss:0.738123\n",
      "[350]\tvalidation_0-mlogloss:0.656717\tvalidation_1-mlogloss:0.737877\n",
      "[351]\tvalidation_0-mlogloss:0.656258\tvalidation_1-mlogloss:0.737585\n",
      "[352]\tvalidation_0-mlogloss:0.655804\tvalidation_1-mlogloss:0.737338\n",
      "[353]\tvalidation_0-mlogloss:0.655367\tvalidation_1-mlogloss:0.737137\n",
      "[354]\tvalidation_0-mlogloss:0.654908\tvalidation_1-mlogloss:0.736779\n",
      "[355]\tvalidation_0-mlogloss:0.654495\tvalidation_1-mlogloss:0.736623\n",
      "[356]\tvalidation_0-mlogloss:0.654059\tvalidation_1-mlogloss:0.736376\n",
      "[357]\tvalidation_0-mlogloss:0.653539\tvalidation_1-mlogloss:0.735992\n",
      "[358]\tvalidation_0-mlogloss:0.653077\tvalidation_1-mlogloss:0.735604\n",
      "[359]\tvalidation_0-mlogloss:0.652629\tvalidation_1-mlogloss:0.735331\n",
      "[360]\tvalidation_0-mlogloss:0.652218\tvalidation_1-mlogloss:0.735123\n",
      "[361]\tvalidation_0-mlogloss:0.651798\tvalidation_1-mlogloss:0.734866\n",
      "[362]\tvalidation_0-mlogloss:0.651381\tvalidation_1-mlogloss:0.734537\n",
      "[363]\tvalidation_0-mlogloss:0.650959\tvalidation_1-mlogloss:0.734326\n"
     ]
    },
    {
     "name": "stdout",
     "output_type": "stream",
     "text": [
      "[364]\tvalidation_0-mlogloss:0.650545\tvalidation_1-mlogloss:0.734098\n",
      "[365]\tvalidation_0-mlogloss:0.65003\tvalidation_1-mlogloss:0.733766\n",
      "[366]\tvalidation_0-mlogloss:0.649609\tvalidation_1-mlogloss:0.733451\n",
      "[367]\tvalidation_0-mlogloss:0.649133\tvalidation_1-mlogloss:0.733301\n",
      "[368]\tvalidation_0-mlogloss:0.648713\tvalidation_1-mlogloss:0.733013\n",
      "[369]\tvalidation_0-mlogloss:0.648295\tvalidation_1-mlogloss:0.732787\n",
      "[370]\tvalidation_0-mlogloss:0.647838\tvalidation_1-mlogloss:0.732549\n",
      "[371]\tvalidation_0-mlogloss:0.647407\tvalidation_1-mlogloss:0.732248\n",
      "[372]\tvalidation_0-mlogloss:0.646933\tvalidation_1-mlogloss:0.731946\n",
      "[373]\tvalidation_0-mlogloss:0.646447\tvalidation_1-mlogloss:0.731695\n",
      "[374]\tvalidation_0-mlogloss:0.645969\tvalidation_1-mlogloss:0.731373\n",
      "[375]\tvalidation_0-mlogloss:0.645564\tvalidation_1-mlogloss:0.731153\n",
      "[376]\tvalidation_0-mlogloss:0.645105\tvalidation_1-mlogloss:0.730856\n",
      "[377]\tvalidation_0-mlogloss:0.64468\tvalidation_1-mlogloss:0.730512\n",
      "[378]\tvalidation_0-mlogloss:0.644251\tvalidation_1-mlogloss:0.730213\n",
      "[379]\tvalidation_0-mlogloss:0.643818\tvalidation_1-mlogloss:0.730039\n",
      "[380]\tvalidation_0-mlogloss:0.64338\tvalidation_1-mlogloss:0.729809\n",
      "[381]\tvalidation_0-mlogloss:0.642982\tvalidation_1-mlogloss:0.729664\n",
      "[382]\tvalidation_0-mlogloss:0.642515\tvalidation_1-mlogloss:0.729442\n",
      "[383]\tvalidation_0-mlogloss:0.642119\tvalidation_1-mlogloss:0.728921\n",
      "[384]\tvalidation_0-mlogloss:0.641675\tvalidation_1-mlogloss:0.728706\n",
      "[385]\tvalidation_0-mlogloss:0.641261\tvalidation_1-mlogloss:0.728406\n",
      "[386]\tvalidation_0-mlogloss:0.640869\tvalidation_1-mlogloss:0.728076\n",
      "[387]\tvalidation_0-mlogloss:0.640418\tvalidation_1-mlogloss:0.727783\n",
      "[388]\tvalidation_0-mlogloss:0.639966\tvalidation_1-mlogloss:0.727418\n",
      "[389]\tvalidation_0-mlogloss:0.639533\tvalidation_1-mlogloss:0.726952\n",
      "[390]\tvalidation_0-mlogloss:0.639146\tvalidation_1-mlogloss:0.726736\n",
      "[391]\tvalidation_0-mlogloss:0.638743\tvalidation_1-mlogloss:0.726597\n",
      "[392]\tvalidation_0-mlogloss:0.638344\tvalidation_1-mlogloss:0.726253\n",
      "[393]\tvalidation_0-mlogloss:0.637922\tvalidation_1-mlogloss:0.726112\n",
      "[394]\tvalidation_0-mlogloss:0.637494\tvalidation_1-mlogloss:0.725929\n",
      "[395]\tvalidation_0-mlogloss:0.637105\tvalidation_1-mlogloss:0.725682\n",
      "[396]\tvalidation_0-mlogloss:0.636686\tvalidation_1-mlogloss:0.725444\n",
      "[397]\tvalidation_0-mlogloss:0.636258\tvalidation_1-mlogloss:0.7252\n",
      "[398]\tvalidation_0-mlogloss:0.635798\tvalidation_1-mlogloss:0.724915\n",
      "[399]\tvalidation_0-mlogloss:0.635397\tvalidation_1-mlogloss:0.724588\n",
      "[400]\tvalidation_0-mlogloss:0.635005\tvalidation_1-mlogloss:0.724365\n",
      "[401]\tvalidation_0-mlogloss:0.634635\tvalidation_1-mlogloss:0.72416\n",
      "[402]\tvalidation_0-mlogloss:0.634197\tvalidation_1-mlogloss:0.724033\n",
      "[403]\tvalidation_0-mlogloss:0.633817\tvalidation_1-mlogloss:0.723738\n",
      "[404]\tvalidation_0-mlogloss:0.633394\tvalidation_1-mlogloss:0.723531\n",
      "[405]\tvalidation_0-mlogloss:0.633016\tvalidation_1-mlogloss:0.723235\n",
      "[406]\tvalidation_0-mlogloss:0.632608\tvalidation_1-mlogloss:0.72305\n",
      "[407]\tvalidation_0-mlogloss:0.632206\tvalidation_1-mlogloss:0.722853\n",
      "[408]\tvalidation_0-mlogloss:0.631769\tvalidation_1-mlogloss:0.722587\n",
      "[409]\tvalidation_0-mlogloss:0.631379\tvalidation_1-mlogloss:0.722093\n",
      "[410]\tvalidation_0-mlogloss:0.630939\tvalidation_1-mlogloss:0.721887\n",
      "[411]\tvalidation_0-mlogloss:0.630544\tvalidation_1-mlogloss:0.721604\n",
      "[412]\tvalidation_0-mlogloss:0.630154\tvalidation_1-mlogloss:0.72146\n",
      "[413]\tvalidation_0-mlogloss:0.629749\tvalidation_1-mlogloss:0.721067\n",
      "[414]\tvalidation_0-mlogloss:0.629341\tvalidation_1-mlogloss:0.72078\n",
      "[415]\tvalidation_0-mlogloss:0.628931\tvalidation_1-mlogloss:0.720444\n",
      "[416]\tvalidation_0-mlogloss:0.628519\tvalidation_1-mlogloss:0.720137\n",
      "[417]\tvalidation_0-mlogloss:0.628103\tvalidation_1-mlogloss:0.719982\n",
      "[418]\tvalidation_0-mlogloss:0.627673\tvalidation_1-mlogloss:0.719734\n",
      "[419]\tvalidation_0-mlogloss:0.627285\tvalidation_1-mlogloss:0.719542\n",
      "[420]\tvalidation_0-mlogloss:0.626904\tvalidation_1-mlogloss:0.719323\n",
      "[421]\tvalidation_0-mlogloss:0.626516\tvalidation_1-mlogloss:0.719156\n",
      "[422]\tvalidation_0-mlogloss:0.626095\tvalidation_1-mlogloss:0.718758\n",
      "[423]\tvalidation_0-mlogloss:0.625709\tvalidation_1-mlogloss:0.718351\n",
      "[424]\tvalidation_0-mlogloss:0.625257\tvalidation_1-mlogloss:0.717983\n",
      "[425]\tvalidation_0-mlogloss:0.624871\tvalidation_1-mlogloss:0.717746\n",
      "[426]\tvalidation_0-mlogloss:0.624472\tvalidation_1-mlogloss:0.717483\n",
      "[427]\tvalidation_0-mlogloss:0.62403\tvalidation_1-mlogloss:0.717422\n",
      "[428]\tvalidation_0-mlogloss:0.623639\tvalidation_1-mlogloss:0.717145\n",
      "[429]\tvalidation_0-mlogloss:0.623264\tvalidation_1-mlogloss:0.716832\n",
      "[430]\tvalidation_0-mlogloss:0.622834\tvalidation_1-mlogloss:0.716577\n",
      "[431]\tvalidation_0-mlogloss:0.622403\tvalidation_1-mlogloss:0.716207\n",
      "[432]\tvalidation_0-mlogloss:0.622023\tvalidation_1-mlogloss:0.715973\n",
      "[433]\tvalidation_0-mlogloss:0.621661\tvalidation_1-mlogloss:0.715749\n",
      "[434]\tvalidation_0-mlogloss:0.621287\tvalidation_1-mlogloss:0.715531\n",
      "[435]\tvalidation_0-mlogloss:0.620867\tvalidation_1-mlogloss:0.71535\n",
      "[436]\tvalidation_0-mlogloss:0.620468\tvalidation_1-mlogloss:0.714993\n",
      "[437]\tvalidation_0-mlogloss:0.620081\tvalidation_1-mlogloss:0.714624\n",
      "[438]\tvalidation_0-mlogloss:0.619698\tvalidation_1-mlogloss:0.714288\n",
      "[439]\tvalidation_0-mlogloss:0.619326\tvalidation_1-mlogloss:0.714047\n",
      "[440]\tvalidation_0-mlogloss:0.618945\tvalidation_1-mlogloss:0.713799\n",
      "[441]\tvalidation_0-mlogloss:0.61856\tvalidation_1-mlogloss:0.71361\n",
      "[442]\tvalidation_0-mlogloss:0.618214\tvalidation_1-mlogloss:0.713357\n",
      "[443]\tvalidation_0-mlogloss:0.617863\tvalidation_1-mlogloss:0.713209\n",
      "[444]\tvalidation_0-mlogloss:0.617504\tvalidation_1-mlogloss:0.712962\n",
      "[445]\tvalidation_0-mlogloss:0.617068\tvalidation_1-mlogloss:0.712718\n",
      "[446]\tvalidation_0-mlogloss:0.616671\tvalidation_1-mlogloss:0.712336\n",
      "[447]\tvalidation_0-mlogloss:0.616327\tvalidation_1-mlogloss:0.712083\n",
      "[448]\tvalidation_0-mlogloss:0.615949\tvalidation_1-mlogloss:0.711779\n",
      "[449]\tvalidation_0-mlogloss:0.615581\tvalidation_1-mlogloss:0.711609\n",
      "[450]\tvalidation_0-mlogloss:0.615232\tvalidation_1-mlogloss:0.711485\n",
      "[451]\tvalidation_0-mlogloss:0.614845\tvalidation_1-mlogloss:0.711243\n",
      "[452]\tvalidation_0-mlogloss:0.614468\tvalidation_1-mlogloss:0.711102\n",
      "[453]\tvalidation_0-mlogloss:0.614076\tvalidation_1-mlogloss:0.711005\n",
      "[454]\tvalidation_0-mlogloss:0.613732\tvalidation_1-mlogloss:0.710894\n",
      "[455]\tvalidation_0-mlogloss:0.613358\tvalidation_1-mlogloss:0.710606\n",
      "[456]\tvalidation_0-mlogloss:0.612992\tvalidation_1-mlogloss:0.71045\n",
      "[457]\tvalidation_0-mlogloss:0.612626\tvalidation_1-mlogloss:0.710183\n",
      "[458]\tvalidation_0-mlogloss:0.612261\tvalidation_1-mlogloss:0.709954\n",
      "[459]\tvalidation_0-mlogloss:0.611904\tvalidation_1-mlogloss:0.709811\n",
      "[460]\tvalidation_0-mlogloss:0.611519\tvalidation_1-mlogloss:0.709632\n",
      "[461]\tvalidation_0-mlogloss:0.611156\tvalidation_1-mlogloss:0.709307\n",
      "[462]\tvalidation_0-mlogloss:0.610781\tvalidation_1-mlogloss:0.709057\n",
      "[463]\tvalidation_0-mlogloss:0.610449\tvalidation_1-mlogloss:0.708908\n",
      "[464]\tvalidation_0-mlogloss:0.610109\tvalidation_1-mlogloss:0.708691\n",
      "[465]\tvalidation_0-mlogloss:0.609749\tvalidation_1-mlogloss:0.708476\n",
      "[466]\tvalidation_0-mlogloss:0.609337\tvalidation_1-mlogloss:0.708442\n",
      "[467]\tvalidation_0-mlogloss:0.608986\tvalidation_1-mlogloss:0.708188\n",
      "[468]\tvalidation_0-mlogloss:0.608609\tvalidation_1-mlogloss:0.707912\n",
      "[469]\tvalidation_0-mlogloss:0.608226\tvalidation_1-mlogloss:0.707811\n",
      "[470]\tvalidation_0-mlogloss:0.607878\tvalidation_1-mlogloss:0.707643\n",
      "[471]\tvalidation_0-mlogloss:0.607529\tvalidation_1-mlogloss:0.707468\n",
      "[472]\tvalidation_0-mlogloss:0.607181\tvalidation_1-mlogloss:0.707203\n",
      "[473]\tvalidation_0-mlogloss:0.606813\tvalidation_1-mlogloss:0.707008\n",
      "[474]\tvalidation_0-mlogloss:0.606441\tvalidation_1-mlogloss:0.70702\n",
      "[475]\tvalidation_0-mlogloss:0.606049\tvalidation_1-mlogloss:0.706783\n",
      "[476]\tvalidation_0-mlogloss:0.605727\tvalidation_1-mlogloss:0.706676\n",
      "[477]\tvalidation_0-mlogloss:0.605388\tvalidation_1-mlogloss:0.706554\n",
      "[478]\tvalidation_0-mlogloss:0.604982\tvalidation_1-mlogloss:0.706385\n",
      "[479]\tvalidation_0-mlogloss:0.604654\tvalidation_1-mlogloss:0.706199\n",
      "[480]\tvalidation_0-mlogloss:0.604306\tvalidation_1-mlogloss:0.705992\n",
      "[481]\tvalidation_0-mlogloss:0.603975\tvalidation_1-mlogloss:0.705756\n",
      "[482]\tvalidation_0-mlogloss:0.603621\tvalidation_1-mlogloss:0.705689\n",
      "[483]\tvalidation_0-mlogloss:0.603285\tvalidation_1-mlogloss:0.705489\n",
      "[484]\tvalidation_0-mlogloss:0.602939\tvalidation_1-mlogloss:0.705251\n"
     ]
    },
    {
     "name": "stdout",
     "output_type": "stream",
     "text": [
      "[485]\tvalidation_0-mlogloss:0.602597\tvalidation_1-mlogloss:0.704946\n",
      "[486]\tvalidation_0-mlogloss:0.602266\tvalidation_1-mlogloss:0.704727\n",
      "[487]\tvalidation_0-mlogloss:0.601941\tvalidation_1-mlogloss:0.704418\n",
      "[488]\tvalidation_0-mlogloss:0.60158\tvalidation_1-mlogloss:0.704263\n",
      "[489]\tvalidation_0-mlogloss:0.601243\tvalidation_1-mlogloss:0.704014\n",
      "[490]\tvalidation_0-mlogloss:0.600874\tvalidation_1-mlogloss:0.703747\n",
      "[491]\tvalidation_0-mlogloss:0.600509\tvalidation_1-mlogloss:0.70345\n",
      "[492]\tvalidation_0-mlogloss:0.600187\tvalidation_1-mlogloss:0.703244\n",
      "[493]\tvalidation_0-mlogloss:0.599832\tvalidation_1-mlogloss:0.70312\n",
      "[494]\tvalidation_0-mlogloss:0.599504\tvalidation_1-mlogloss:0.702896\n",
      "[495]\tvalidation_0-mlogloss:0.599086\tvalidation_1-mlogloss:0.702576\n",
      "[496]\tvalidation_0-mlogloss:0.598765\tvalidation_1-mlogloss:0.702309\n",
      "[497]\tvalidation_0-mlogloss:0.598424\tvalidation_1-mlogloss:0.701984\n",
      "[498]\tvalidation_0-mlogloss:0.59807\tvalidation_1-mlogloss:0.701739\n",
      "[499]\tvalidation_0-mlogloss:0.597722\tvalidation_1-mlogloss:0.701481\n"
     ]
    },
    {
     "data": {
      "text/plain": [
       "XGBClassifier(base_score=0.5, booster='gbtree', colsample_bylevel=1,\n",
       "              colsample_bynode=1, colsample_bytree=0.5, gamma=0,\n",
       "              learning_rate=0.15, max_delta_step=0, max_depth=3,\n",
       "              min_child_weight=1, missing=None, n_estimators=500, n_jobs=-1,\n",
       "              nthread=None, objective='multi:softprob', random_state=22,\n",
       "              reg_alpha=0, reg_lambda=1, scale_pos_weight=1, seed=None,\n",
       "              silent=None, subsample=1.0, verbosity=1)"
      ]
     },
     "execution_count": 26,
     "metadata": {},
     "output_type": "execute_result"
    }
   ],
   "source": [
    "xgb_model = XGBClassifier(max_depth= 3, n_estimators=500, n_jobs=-1,learning_rate=0.15, reg_lambda=1,\n",
    "                          colsample_bytree = 0.5, random_state=22, subsample = 1.)\n",
    "xgb_model.fit(tfidf_train, y_train, eval_metric =  ['mlogloss'], eval_set = [(tfidf_train,y_train), (tfidf_test, y_test)],\n",
    "             early_stopping_rounds = 50)"
   ]
  },
  {
   "cell_type": "code",
   "execution_count": 27,
   "metadata": {},
   "outputs": [
    {
     "name": "stdout",
     "output_type": "stream",
     "text": [
      "------------- XGBoost -----------\n",
      "              precision    recall  f1-score   support\n",
      "\n",
      "           0       0.65      0.89      0.75      1580\n",
      "           1       0.79      0.62      0.70      1127\n",
      "           2       0.82      0.58      0.68      1208\n",
      "\n",
      "    accuracy                           0.72      3915\n",
      "   macro avg       0.75      0.70      0.71      3915\n",
      "weighted avg       0.74      0.72      0.71      3915\n",
      "\n"
     ]
    },
    {
     "data": {
      "text/html": [
       "<div>\n",
       "<style scoped>\n",
       "    .dataframe tbody tr th:only-of-type {\n",
       "        vertical-align: middle;\n",
       "    }\n",
       "\n",
       "    .dataframe tbody tr th {\n",
       "        vertical-align: top;\n",
       "    }\n",
       "\n",
       "    .dataframe thead th {\n",
       "        text-align: right;\n",
       "    }\n",
       "</style>\n",
       "<table border=\"1\" class=\"dataframe\">\n",
       "  <thead>\n",
       "    <tr style=\"text-align: right;\">\n",
       "      <th></th>\n",
       "      <th>Predicted EAP</th>\n",
       "      <th>Predicted HPL</th>\n",
       "      <th>predicted MWS</th>\n",
       "    </tr>\n",
       "  </thead>\n",
       "  <tbody>\n",
       "    <tr>\n",
       "      <th>Actual EAP</th>\n",
       "      <td>1402</td>\n",
       "      <td>96</td>\n",
       "      <td>82</td>\n",
       "    </tr>\n",
       "    <tr>\n",
       "      <th>Actual HPL</th>\n",
       "      <td>347</td>\n",
       "      <td>703</td>\n",
       "      <td>77</td>\n",
       "    </tr>\n",
       "    <tr>\n",
       "      <th>Actual MWS</th>\n",
       "      <td>410</td>\n",
       "      <td>92</td>\n",
       "      <td>706</td>\n",
       "    </tr>\n",
       "  </tbody>\n",
       "</table>\n",
       "</div>"
      ],
      "text/plain": [
       "            Predicted EAP  Predicted HPL  predicted MWS\n",
       "Actual EAP           1402             96             82\n",
       "Actual HPL            347            703             77\n",
       "Actual MWS            410             92            706"
      ]
     },
     "metadata": {},
     "output_type": "display_data"
    },
    {
     "name": "stdout",
     "output_type": "stream",
     "text": [
      "The multiclass logloss is 0.7014815384936448\n"
     ]
    }
   ],
   "source": [
    "print(\"------------- XGBoost -----------\")\n",
    "show_metrics(y_test, xgb_model.predict(tfidf_test), xgb_model.predict_proba(tfidf_test))"
   ]
  },
  {
   "cell_type": "code",
   "execution_count": 28,
   "metadata": {},
   "outputs": [],
   "source": [
    "cv_scores_xgb = cross_val_score(xgb_model,tfidf_train,y_train, cv = 5, scoring = mlogloss)"
   ]
  },
  {
   "cell_type": "code",
   "execution_count": 29,
   "metadata": {},
   "outputs": [
    {
     "name": "stdout",
     "output_type": "stream",
     "text": [
      "Mean CV score: -0.7056489468959984 and std. dev.: 0.003601770684602689\n"
     ]
    }
   ],
   "source": [
    "print(\"Mean CV score: {} and std. dev.: {}\".format(np.mean(cv_scores_xgb), np.std(cv_scores_xgb)))"
   ]
  },
  {
   "cell_type": "markdown",
   "metadata": {},
   "source": [
    "## Word vectors (GloVe)"
   ]
  },
  {
   "cell_type": "code",
   "execution_count": 9,
   "metadata": {},
   "outputs": [],
   "source": [
    "def read_glove_vecs(glove_file):\n",
    "    with open(glove_file, 'r') as f:\n",
    "        words = set()\n",
    "        word_to_vec_map = {}\n",
    "        for line in f:\n",
    "            line = line.strip().split()\n",
    "            curr_word = line[0]\n",
    "            words.add(curr_word)\n",
    "            word_to_vec_map[curr_word] = np.array(line[1:], dtype=np.float64)\n",
    "        \n",
    "        i = 1\n",
    "        words_to_index = {}\n",
    "#        index_to_words = {}\n",
    "        for w in sorted(words):\n",
    "            words_to_index[w] = i\n",
    "#            index_to_words[i] = w\n",
    "            i = i + 1\n",
    "    return words, words_to_index, word_to_vec_map\n",
    "\n",
    "\n",
    "\n",
    "emb_dim = 100 # Get the 100-dim Glove vectors\n",
    "words, words_to_index, word_to_vec_map = read_glove_vecs('../input/glove_6B/glove.6B.{}d.txt'.format(emb_dim))"
   ]
  },
  {
   "cell_type": "code",
   "execution_count": 31,
   "metadata": {},
   "outputs": [],
   "source": [
    "def sentence_to_avg(sentence, word_to_vec_map):\n",
    "    \"\"\"\n",
    "    Converts a sentence (string) into a list of words (strings). Extracts the GloVe representation of each word\n",
    "    and averages its value into a single vector encoding the meaning of the sentence.\n",
    "    \n",
    "    Arguments:\n",
    "    sentence -- string, one training example\n",
    "    word_to_vec_map -- dictionary mapping every word in a vocabulary into its n-dimensional vector representation\n",
    "    \n",
    "    Returns:\n",
    "    avg -- average vector encoding information about the sentence, numpy-array of shape (glove_vec_size,)\n",
    "    \"\"\"\n",
    "    \n",
    "    words = word_tokenize(sentence.lower())\n",
    "    words = [w for w in words if w.isalpha()]\n",
    "    # Initialize the average word vector\n",
    "    avg = np.zeros(shape = (emb_dim,))\n",
    "    \n",
    "    # Average the word vectors.\n",
    "    total = np.zeros(shape = (emb_dim,))\n",
    "    for w in words:\n",
    "        if w not in word_to_vec_map.keys():\n",
    "            continue\n",
    "        total += word_to_vec_map[w]\n",
    "    if len(words) >0:\n",
    "        avg = total/len(words)\n",
    "#    tot_norm = total/np.sqrt(np.sum((total)**2))\n",
    "    return avg"
   ]
  },
  {
   "cell_type": "code",
   "execution_count": 137,
   "metadata": {},
   "outputs": [],
   "source": [
    "train = pd.read_csv('../input/train.csv')\n",
    "train.loc[:, 'author'] = train.author.map({'EAP':0, 'HPL': 1, 'MWS': 2})\n",
    "X_train, X_test, y_train, y_test = train_test_split(train, train.author, test_size=0.2, \n",
    "                                                  shuffle=True, random_state=9999, stratify = train.author)"
   ]
  },
  {
   "cell_type": "code",
   "execution_count": 33,
   "metadata": {},
   "outputs": [],
   "source": [
    "X_train_glove = [sentence_to_avg(x, word_to_vec_map) for x in X_train.text]\n",
    "X_test_glove =  [sentence_to_avg(x, word_to_vec_map) for x in X_test.text]\n",
    "\n",
    "X_train_glove = np.stack(X_train_glove,axis=0)\n",
    "X_test_glove = np.stack(X_test_glove,axis=0)"
   ]
  },
  {
   "cell_type": "code",
   "execution_count": 34,
   "metadata": {},
   "outputs": [],
   "source": [
    "# Scale the inputs\n",
    "sc = StandardScaler()\n",
    "X_train_glove_sc = sc.fit_transform(X_train_glove)\n",
    "X_test_glove_sc = sc.transform(X_test_glove)"
   ]
  },
  {
   "cell_type": "code",
   "execution_count": 35,
   "metadata": {},
   "outputs": [
    {
     "name": "stdout",
     "output_type": "stream",
     "text": [
      "Best parameter values: {'C': 0.01}\n",
      " Best mean CV score = -0.8242 and std. dev. = 0.01149\n",
      "Train logloss:  0.808987578717734\n",
      "Test logloss:  0.8134586541872701\n"
     ]
    }
   ],
   "source": [
    "# Logistic Regression with the GloVe vectors\n",
    "\n",
    "clf_logreg_glove = LogisticRegression(solver='sag',random_state=23, class_weight= 'balanced')\n",
    "parameters = {'C': [0.001,0.005,0.01,0.05,0.1]}\n",
    "logreg_glove_model = grid_search(clf_logreg_glove, parameters, X_train_glove_sc, y_train, n_folds=5, score_func=mlogloss)\n",
    "\n",
    "\n",
    "print('Train logloss: ',log_loss(y_train,logreg_glove_model.predict_proba(X_train_glove_sc)))\n",
    "print('Test logloss: ',log_loss(y_test,logreg_glove_model.predict_proba(X_test_glove_sc)))"
   ]
  },
  {
   "cell_type": "code",
   "execution_count": 36,
   "metadata": {},
   "outputs": [
    {
     "name": "stdout",
     "output_type": "stream",
     "text": [
      "[0]\tvalidation_0-mlogloss:1.08396\tvalidation_1-mlogloss:1.08543\n",
      "Multiple eval metrics have been passed: 'validation_1-mlogloss' will be used for early stopping.\n",
      "\n",
      "Will train until validation_1-mlogloss hasn't improved in 30 rounds.\n",
      "[1]\tvalidation_0-mlogloss:1.06977\tvalidation_1-mlogloss:1.07194\n",
      "[2]\tvalidation_0-mlogloss:1.05815\tvalidation_1-mlogloss:1.06123\n",
      "[3]\tvalidation_0-mlogloss:1.0459\tvalidation_1-mlogloss:1.04977\n",
      "[4]\tvalidation_0-mlogloss:1.03496\tvalidation_1-mlogloss:1.04019\n",
      "[5]\tvalidation_0-mlogloss:1.02554\tvalidation_1-mlogloss:1.03148\n",
      "[6]\tvalidation_0-mlogloss:1.01568\tvalidation_1-mlogloss:1.02267\n",
      "[7]\tvalidation_0-mlogloss:1.00613\tvalidation_1-mlogloss:1.01434\n",
      "[8]\tvalidation_0-mlogloss:0.99915\tvalidation_1-mlogloss:1.00816\n",
      "[9]\tvalidation_0-mlogloss:0.991048\tvalidation_1-mlogloss:1.00057\n",
      "[10]\tvalidation_0-mlogloss:0.983936\tvalidation_1-mlogloss:0.994245\n",
      "[11]\tvalidation_0-mlogloss:0.976674\tvalidation_1-mlogloss:0.987518\n",
      "[12]\tvalidation_0-mlogloss:0.970081\tvalidation_1-mlogloss:0.981472\n",
      "[13]\tvalidation_0-mlogloss:0.963676\tvalidation_1-mlogloss:0.975598\n",
      "[14]\tvalidation_0-mlogloss:0.957566\tvalidation_1-mlogloss:0.971061\n",
      "[15]\tvalidation_0-mlogloss:0.951899\tvalidation_1-mlogloss:0.965671\n",
      "[16]\tvalidation_0-mlogloss:0.946188\tvalidation_1-mlogloss:0.960485\n",
      "[17]\tvalidation_0-mlogloss:0.94116\tvalidation_1-mlogloss:0.955992\n",
      "[18]\tvalidation_0-mlogloss:0.936298\tvalidation_1-mlogloss:0.951433\n",
      "[19]\tvalidation_0-mlogloss:0.931534\tvalidation_1-mlogloss:0.947594\n",
      "[20]\tvalidation_0-mlogloss:0.926946\tvalidation_1-mlogloss:0.94361\n",
      "[21]\tvalidation_0-mlogloss:0.922804\tvalidation_1-mlogloss:0.939969\n",
      "[22]\tvalidation_0-mlogloss:0.918979\tvalidation_1-mlogloss:0.936652\n",
      "[23]\tvalidation_0-mlogloss:0.915033\tvalidation_1-mlogloss:0.9334\n",
      "[24]\tvalidation_0-mlogloss:0.910897\tvalidation_1-mlogloss:0.930094\n",
      "[25]\tvalidation_0-mlogloss:0.907034\tvalidation_1-mlogloss:0.9271\n",
      "[26]\tvalidation_0-mlogloss:0.903262\tvalidation_1-mlogloss:0.923766\n",
      "[27]\tvalidation_0-mlogloss:0.899646\tvalidation_1-mlogloss:0.921011\n",
      "[28]\tvalidation_0-mlogloss:0.896159\tvalidation_1-mlogloss:0.91837\n",
      "[29]\tvalidation_0-mlogloss:0.892741\tvalidation_1-mlogloss:0.915696\n",
      "[30]\tvalidation_0-mlogloss:0.889832\tvalidation_1-mlogloss:0.91359\n",
      "[31]\tvalidation_0-mlogloss:0.886621\tvalidation_1-mlogloss:0.911125\n",
      "[32]\tvalidation_0-mlogloss:0.883557\tvalidation_1-mlogloss:0.908773\n",
      "[33]\tvalidation_0-mlogloss:0.88058\tvalidation_1-mlogloss:0.906448\n",
      "[34]\tvalidation_0-mlogloss:0.877488\tvalidation_1-mlogloss:0.903868\n",
      "[35]\tvalidation_0-mlogloss:0.874545\tvalidation_1-mlogloss:0.901608\n",
      "[36]\tvalidation_0-mlogloss:0.871966\tvalidation_1-mlogloss:0.899922\n",
      "[37]\tvalidation_0-mlogloss:0.869284\tvalidation_1-mlogloss:0.897761\n",
      "[38]\tvalidation_0-mlogloss:0.866488\tvalidation_1-mlogloss:0.895858\n",
      "[39]\tvalidation_0-mlogloss:0.864134\tvalidation_1-mlogloss:0.893813\n",
      "[40]\tvalidation_0-mlogloss:0.861653\tvalidation_1-mlogloss:0.892014\n",
      "[41]\tvalidation_0-mlogloss:0.859118\tvalidation_1-mlogloss:0.890022\n",
      "[42]\tvalidation_0-mlogloss:0.856788\tvalidation_1-mlogloss:0.888219\n",
      "[43]\tvalidation_0-mlogloss:0.854477\tvalidation_1-mlogloss:0.88653\n",
      "[44]\tvalidation_0-mlogloss:0.852087\tvalidation_1-mlogloss:0.88454\n",
      "[45]\tvalidation_0-mlogloss:0.849975\tvalidation_1-mlogloss:0.882704\n",
      "[46]\tvalidation_0-mlogloss:0.847573\tvalidation_1-mlogloss:0.881216\n",
      "[47]\tvalidation_0-mlogloss:0.845371\tvalidation_1-mlogloss:0.879748\n",
      "[48]\tvalidation_0-mlogloss:0.843221\tvalidation_1-mlogloss:0.878084\n",
      "[49]\tvalidation_0-mlogloss:0.841059\tvalidation_1-mlogloss:0.87612\n",
      "[50]\tvalidation_0-mlogloss:0.838928\tvalidation_1-mlogloss:0.874515\n",
      "[51]\tvalidation_0-mlogloss:0.837026\tvalidation_1-mlogloss:0.873242\n",
      "[52]\tvalidation_0-mlogloss:0.835185\tvalidation_1-mlogloss:0.872306\n",
      "[53]\tvalidation_0-mlogloss:0.833323\tvalidation_1-mlogloss:0.870911\n",
      "[54]\tvalidation_0-mlogloss:0.831457\tvalidation_1-mlogloss:0.86978\n",
      "[55]\tvalidation_0-mlogloss:0.829588\tvalidation_1-mlogloss:0.868388\n",
      "[56]\tvalidation_0-mlogloss:0.827812\tvalidation_1-mlogloss:0.867127\n",
      "[57]\tvalidation_0-mlogloss:0.826131\tvalidation_1-mlogloss:0.865846\n",
      "[58]\tvalidation_0-mlogloss:0.82452\tvalidation_1-mlogloss:0.864757\n",
      "[59]\tvalidation_0-mlogloss:0.822979\tvalidation_1-mlogloss:0.863958\n",
      "[60]\tvalidation_0-mlogloss:0.821232\tvalidation_1-mlogloss:0.862927\n",
      "[61]\tvalidation_0-mlogloss:0.819507\tvalidation_1-mlogloss:0.86186\n",
      "[62]\tvalidation_0-mlogloss:0.81793\tvalidation_1-mlogloss:0.860668\n",
      "[63]\tvalidation_0-mlogloss:0.816074\tvalidation_1-mlogloss:0.859747\n",
      "[64]\tvalidation_0-mlogloss:0.814392\tvalidation_1-mlogloss:0.858815\n",
      "[65]\tvalidation_0-mlogloss:0.812857\tvalidation_1-mlogloss:0.857834\n",
      "[66]\tvalidation_0-mlogloss:0.811009\tvalidation_1-mlogloss:0.85676\n",
      "[67]\tvalidation_0-mlogloss:0.809318\tvalidation_1-mlogloss:0.85547\n",
      "[68]\tvalidation_0-mlogloss:0.807638\tvalidation_1-mlogloss:0.854573\n",
      "[69]\tvalidation_0-mlogloss:0.80611\tvalidation_1-mlogloss:0.853502\n",
      "[70]\tvalidation_0-mlogloss:0.804617\tvalidation_1-mlogloss:0.852365\n",
      "[71]\tvalidation_0-mlogloss:0.802971\tvalidation_1-mlogloss:0.851062\n",
      "[72]\tvalidation_0-mlogloss:0.801439\tvalidation_1-mlogloss:0.850377\n",
      "[73]\tvalidation_0-mlogloss:0.799886\tvalidation_1-mlogloss:0.849083\n",
      "[74]\tvalidation_0-mlogloss:0.798412\tvalidation_1-mlogloss:0.848213\n",
      "[75]\tvalidation_0-mlogloss:0.797\tvalidation_1-mlogloss:0.847049\n",
      "[76]\tvalidation_0-mlogloss:0.795544\tvalidation_1-mlogloss:0.846266\n",
      "[77]\tvalidation_0-mlogloss:0.794157\tvalidation_1-mlogloss:0.84528\n",
      "[78]\tvalidation_0-mlogloss:0.792628\tvalidation_1-mlogloss:0.844046\n",
      "[79]\tvalidation_0-mlogloss:0.791219\tvalidation_1-mlogloss:0.843137\n",
      "[80]\tvalidation_0-mlogloss:0.789913\tvalidation_1-mlogloss:0.842578\n",
      "[81]\tvalidation_0-mlogloss:0.788632\tvalidation_1-mlogloss:0.84167\n",
      "[82]\tvalidation_0-mlogloss:0.787339\tvalidation_1-mlogloss:0.840757\n",
      "[83]\tvalidation_0-mlogloss:0.785956\tvalidation_1-mlogloss:0.839905\n",
      "[84]\tvalidation_0-mlogloss:0.784625\tvalidation_1-mlogloss:0.839025\n",
      "[85]\tvalidation_0-mlogloss:0.783333\tvalidation_1-mlogloss:0.838351\n",
      "[86]\tvalidation_0-mlogloss:0.782038\tvalidation_1-mlogloss:0.837699\n",
      "[87]\tvalidation_0-mlogloss:0.780759\tvalidation_1-mlogloss:0.837017\n",
      "[88]\tvalidation_0-mlogloss:0.779466\tvalidation_1-mlogloss:0.835978\n",
      "[89]\tvalidation_0-mlogloss:0.778127\tvalidation_1-mlogloss:0.835257\n",
      "[90]\tvalidation_0-mlogloss:0.776806\tvalidation_1-mlogloss:0.834402\n",
      "[91]\tvalidation_0-mlogloss:0.775584\tvalidation_1-mlogloss:0.833753\n",
      "[92]\tvalidation_0-mlogloss:0.774377\tvalidation_1-mlogloss:0.833068\n",
      "[93]\tvalidation_0-mlogloss:0.773255\tvalidation_1-mlogloss:0.8325\n",
      "[94]\tvalidation_0-mlogloss:0.772018\tvalidation_1-mlogloss:0.83192\n",
      "[95]\tvalidation_0-mlogloss:0.770686\tvalidation_1-mlogloss:0.831284\n",
      "[96]\tvalidation_0-mlogloss:0.769599\tvalidation_1-mlogloss:0.830589\n",
      "[97]\tvalidation_0-mlogloss:0.768381\tvalidation_1-mlogloss:0.829855\n",
      "[98]\tvalidation_0-mlogloss:0.7672\tvalidation_1-mlogloss:0.829357\n",
      "[99]\tvalidation_0-mlogloss:0.766114\tvalidation_1-mlogloss:0.82888\n",
      "[100]\tvalidation_0-mlogloss:0.764903\tvalidation_1-mlogloss:0.828091\n",
      "[101]\tvalidation_0-mlogloss:0.763875\tvalidation_1-mlogloss:0.827596\n",
      "[102]\tvalidation_0-mlogloss:0.762849\tvalidation_1-mlogloss:0.826993\n",
      "[103]\tvalidation_0-mlogloss:0.761713\tvalidation_1-mlogloss:0.826184\n",
      "[104]\tvalidation_0-mlogloss:0.760628\tvalidation_1-mlogloss:0.825213\n",
      "[105]\tvalidation_0-mlogloss:0.759433\tvalidation_1-mlogloss:0.824752\n",
      "[106]\tvalidation_0-mlogloss:0.758492\tvalidation_1-mlogloss:0.824313\n",
      "[107]\tvalidation_0-mlogloss:0.757333\tvalidation_1-mlogloss:0.823484\n",
      "[108]\tvalidation_0-mlogloss:0.756286\tvalidation_1-mlogloss:0.823005\n",
      "[109]\tvalidation_0-mlogloss:0.755214\tvalidation_1-mlogloss:0.822425\n",
      "[110]\tvalidation_0-mlogloss:0.754277\tvalidation_1-mlogloss:0.822117\n",
      "[111]\tvalidation_0-mlogloss:0.753336\tvalidation_1-mlogloss:0.821701\n",
      "[112]\tvalidation_0-mlogloss:0.752226\tvalidation_1-mlogloss:0.821071\n",
      "[113]\tvalidation_0-mlogloss:0.751272\tvalidation_1-mlogloss:0.8206\n",
      "[114]\tvalidation_0-mlogloss:0.750213\tvalidation_1-mlogloss:0.820064\n",
      "[115]\tvalidation_0-mlogloss:0.74928\tvalidation_1-mlogloss:0.819728\n",
      "[116]\tvalidation_0-mlogloss:0.748238\tvalidation_1-mlogloss:0.819384\n",
      "[117]\tvalidation_0-mlogloss:0.747204\tvalidation_1-mlogloss:0.818672\n",
      "[118]\tvalidation_0-mlogloss:0.74634\tvalidation_1-mlogloss:0.818312\n",
      "[119]\tvalidation_0-mlogloss:0.745281\tvalidation_1-mlogloss:0.818117\n",
      "[120]\tvalidation_0-mlogloss:0.744219\tvalidation_1-mlogloss:0.817712\n"
     ]
    },
    {
     "name": "stdout",
     "output_type": "stream",
     "text": [
      "[121]\tvalidation_0-mlogloss:0.743226\tvalidation_1-mlogloss:0.817162\n",
      "[122]\tvalidation_0-mlogloss:0.742224\tvalidation_1-mlogloss:0.816701\n",
      "[123]\tvalidation_0-mlogloss:0.741274\tvalidation_1-mlogloss:0.81639\n",
      "[124]\tvalidation_0-mlogloss:0.74037\tvalidation_1-mlogloss:0.815924\n",
      "[125]\tvalidation_0-mlogloss:0.739374\tvalidation_1-mlogloss:0.815508\n",
      "[126]\tvalidation_0-mlogloss:0.73835\tvalidation_1-mlogloss:0.815176\n",
      "[127]\tvalidation_0-mlogloss:0.737407\tvalidation_1-mlogloss:0.81466\n",
      "[128]\tvalidation_0-mlogloss:0.736445\tvalidation_1-mlogloss:0.814262\n",
      "[129]\tvalidation_0-mlogloss:0.73556\tvalidation_1-mlogloss:0.813953\n",
      "[130]\tvalidation_0-mlogloss:0.73458\tvalidation_1-mlogloss:0.813513\n",
      "[131]\tvalidation_0-mlogloss:0.733677\tvalidation_1-mlogloss:0.813033\n",
      "[132]\tvalidation_0-mlogloss:0.732821\tvalidation_1-mlogloss:0.812886\n",
      "[133]\tvalidation_0-mlogloss:0.732061\tvalidation_1-mlogloss:0.812552\n",
      "[134]\tvalidation_0-mlogloss:0.731155\tvalidation_1-mlogloss:0.812271\n",
      "[135]\tvalidation_0-mlogloss:0.730257\tvalidation_1-mlogloss:0.811705\n",
      "[136]\tvalidation_0-mlogloss:0.729402\tvalidation_1-mlogloss:0.811255\n",
      "[137]\tvalidation_0-mlogloss:0.728558\tvalidation_1-mlogloss:0.810887\n",
      "[138]\tvalidation_0-mlogloss:0.727791\tvalidation_1-mlogloss:0.810616\n",
      "[139]\tvalidation_0-mlogloss:0.726902\tvalidation_1-mlogloss:0.810276\n",
      "[140]\tvalidation_0-mlogloss:0.726145\tvalidation_1-mlogloss:0.81003\n",
      "[141]\tvalidation_0-mlogloss:0.725264\tvalidation_1-mlogloss:0.809693\n",
      "[142]\tvalidation_0-mlogloss:0.724401\tvalidation_1-mlogloss:0.809539\n",
      "[143]\tvalidation_0-mlogloss:0.723543\tvalidation_1-mlogloss:0.809224\n",
      "[144]\tvalidation_0-mlogloss:0.722669\tvalidation_1-mlogloss:0.808843\n",
      "[145]\tvalidation_0-mlogloss:0.721822\tvalidation_1-mlogloss:0.80861\n",
      "[146]\tvalidation_0-mlogloss:0.720909\tvalidation_1-mlogloss:0.808096\n",
      "[147]\tvalidation_0-mlogloss:0.720003\tvalidation_1-mlogloss:0.807682\n",
      "[148]\tvalidation_0-mlogloss:0.719153\tvalidation_1-mlogloss:0.807195\n",
      "[149]\tvalidation_0-mlogloss:0.718319\tvalidation_1-mlogloss:0.80696\n",
      "[150]\tvalidation_0-mlogloss:0.717558\tvalidation_1-mlogloss:0.806693\n",
      "[151]\tvalidation_0-mlogloss:0.716736\tvalidation_1-mlogloss:0.806582\n",
      "[152]\tvalidation_0-mlogloss:0.715998\tvalidation_1-mlogloss:0.806353\n",
      "[153]\tvalidation_0-mlogloss:0.715221\tvalidation_1-mlogloss:0.806099\n",
      "[154]\tvalidation_0-mlogloss:0.714448\tvalidation_1-mlogloss:0.805834\n",
      "[155]\tvalidation_0-mlogloss:0.713748\tvalidation_1-mlogloss:0.805577\n",
      "[156]\tvalidation_0-mlogloss:0.712961\tvalidation_1-mlogloss:0.805237\n",
      "[157]\tvalidation_0-mlogloss:0.712195\tvalidation_1-mlogloss:0.805017\n",
      "[158]\tvalidation_0-mlogloss:0.71154\tvalidation_1-mlogloss:0.804721\n",
      "[159]\tvalidation_0-mlogloss:0.710736\tvalidation_1-mlogloss:0.804339\n",
      "[160]\tvalidation_0-mlogloss:0.709978\tvalidation_1-mlogloss:0.804015\n",
      "[161]\tvalidation_0-mlogloss:0.70913\tvalidation_1-mlogloss:0.803724\n",
      "[162]\tvalidation_0-mlogloss:0.708303\tvalidation_1-mlogloss:0.803345\n",
      "[163]\tvalidation_0-mlogloss:0.707476\tvalidation_1-mlogloss:0.803132\n",
      "[164]\tvalidation_0-mlogloss:0.706804\tvalidation_1-mlogloss:0.802791\n",
      "[165]\tvalidation_0-mlogloss:0.706003\tvalidation_1-mlogloss:0.802237\n",
      "[166]\tvalidation_0-mlogloss:0.705189\tvalidation_1-mlogloss:0.801858\n",
      "[167]\tvalidation_0-mlogloss:0.704458\tvalidation_1-mlogloss:0.801583\n",
      "[168]\tvalidation_0-mlogloss:0.703825\tvalidation_1-mlogloss:0.801396\n",
      "[169]\tvalidation_0-mlogloss:0.703032\tvalidation_1-mlogloss:0.801168\n",
      "[170]\tvalidation_0-mlogloss:0.702239\tvalidation_1-mlogloss:0.801063\n",
      "[171]\tvalidation_0-mlogloss:0.701482\tvalidation_1-mlogloss:0.800702\n",
      "[172]\tvalidation_0-mlogloss:0.700661\tvalidation_1-mlogloss:0.800343\n",
      "[173]\tvalidation_0-mlogloss:0.699943\tvalidation_1-mlogloss:0.799963\n",
      "[174]\tvalidation_0-mlogloss:0.699294\tvalidation_1-mlogloss:0.799703\n",
      "[175]\tvalidation_0-mlogloss:0.698503\tvalidation_1-mlogloss:0.7994\n",
      "[176]\tvalidation_0-mlogloss:0.697751\tvalidation_1-mlogloss:0.799002\n",
      "[177]\tvalidation_0-mlogloss:0.696958\tvalidation_1-mlogloss:0.798652\n",
      "[178]\tvalidation_0-mlogloss:0.696263\tvalidation_1-mlogloss:0.79829\n",
      "[179]\tvalidation_0-mlogloss:0.695666\tvalidation_1-mlogloss:0.798101\n",
      "[180]\tvalidation_0-mlogloss:0.694937\tvalidation_1-mlogloss:0.797965\n",
      "[181]\tvalidation_0-mlogloss:0.694294\tvalidation_1-mlogloss:0.797717\n",
      "[182]\tvalidation_0-mlogloss:0.693551\tvalidation_1-mlogloss:0.797331\n",
      "[183]\tvalidation_0-mlogloss:0.692913\tvalidation_1-mlogloss:0.796921\n",
      "[184]\tvalidation_0-mlogloss:0.692329\tvalidation_1-mlogloss:0.796812\n",
      "[185]\tvalidation_0-mlogloss:0.691604\tvalidation_1-mlogloss:0.796411\n",
      "[186]\tvalidation_0-mlogloss:0.69094\tvalidation_1-mlogloss:0.796129\n",
      "[187]\tvalidation_0-mlogloss:0.690218\tvalidation_1-mlogloss:0.795893\n",
      "[188]\tvalidation_0-mlogloss:0.689534\tvalidation_1-mlogloss:0.795717\n",
      "[189]\tvalidation_0-mlogloss:0.688828\tvalidation_1-mlogloss:0.79529\n",
      "[190]\tvalidation_0-mlogloss:0.688187\tvalidation_1-mlogloss:0.79495\n",
      "[191]\tvalidation_0-mlogloss:0.687471\tvalidation_1-mlogloss:0.794631\n",
      "[192]\tvalidation_0-mlogloss:0.686816\tvalidation_1-mlogloss:0.794314\n",
      "[193]\tvalidation_0-mlogloss:0.686108\tvalidation_1-mlogloss:0.794244\n",
      "[194]\tvalidation_0-mlogloss:0.685527\tvalidation_1-mlogloss:0.794025\n",
      "[195]\tvalidation_0-mlogloss:0.684896\tvalidation_1-mlogloss:0.793844\n",
      "[196]\tvalidation_0-mlogloss:0.684336\tvalidation_1-mlogloss:0.793647\n",
      "[197]\tvalidation_0-mlogloss:0.683726\tvalidation_1-mlogloss:0.79382\n",
      "[198]\tvalidation_0-mlogloss:0.683162\tvalidation_1-mlogloss:0.793508\n",
      "[199]\tvalidation_0-mlogloss:0.682533\tvalidation_1-mlogloss:0.793126\n",
      "[200]\tvalidation_0-mlogloss:0.681952\tvalidation_1-mlogloss:0.792879\n",
      "[201]\tvalidation_0-mlogloss:0.681245\tvalidation_1-mlogloss:0.792549\n",
      "[202]\tvalidation_0-mlogloss:0.680626\tvalidation_1-mlogloss:0.792158\n",
      "[203]\tvalidation_0-mlogloss:0.679967\tvalidation_1-mlogloss:0.792128\n",
      "[204]\tvalidation_0-mlogloss:0.679228\tvalidation_1-mlogloss:0.791681\n",
      "[205]\tvalidation_0-mlogloss:0.678604\tvalidation_1-mlogloss:0.791386\n",
      "[206]\tvalidation_0-mlogloss:0.678074\tvalidation_1-mlogloss:0.791281\n",
      "[207]\tvalidation_0-mlogloss:0.677519\tvalidation_1-mlogloss:0.791297\n",
      "[208]\tvalidation_0-mlogloss:0.676864\tvalidation_1-mlogloss:0.791124\n",
      "[209]\tvalidation_0-mlogloss:0.67628\tvalidation_1-mlogloss:0.790938\n",
      "[210]\tvalidation_0-mlogloss:0.675615\tvalidation_1-mlogloss:0.790754\n",
      "[211]\tvalidation_0-mlogloss:0.674899\tvalidation_1-mlogloss:0.790628\n",
      "[212]\tvalidation_0-mlogloss:0.674341\tvalidation_1-mlogloss:0.7906\n",
      "[213]\tvalidation_0-mlogloss:0.673727\tvalidation_1-mlogloss:0.790362\n",
      "[214]\tvalidation_0-mlogloss:0.673013\tvalidation_1-mlogloss:0.790053\n",
      "[215]\tvalidation_0-mlogloss:0.672353\tvalidation_1-mlogloss:0.789805\n",
      "[216]\tvalidation_0-mlogloss:0.671637\tvalidation_1-mlogloss:0.789519\n",
      "[217]\tvalidation_0-mlogloss:0.670985\tvalidation_1-mlogloss:0.789303\n",
      "[218]\tvalidation_0-mlogloss:0.670336\tvalidation_1-mlogloss:0.789036\n",
      "[219]\tvalidation_0-mlogloss:0.669699\tvalidation_1-mlogloss:0.788735\n",
      "[220]\tvalidation_0-mlogloss:0.668986\tvalidation_1-mlogloss:0.788539\n",
      "[221]\tvalidation_0-mlogloss:0.668395\tvalidation_1-mlogloss:0.788282\n",
      "[222]\tvalidation_0-mlogloss:0.667913\tvalidation_1-mlogloss:0.788096\n",
      "[223]\tvalidation_0-mlogloss:0.667255\tvalidation_1-mlogloss:0.787953\n",
      "[224]\tvalidation_0-mlogloss:0.66666\tvalidation_1-mlogloss:0.787843\n",
      "[225]\tvalidation_0-mlogloss:0.665998\tvalidation_1-mlogloss:0.787531\n",
      "[226]\tvalidation_0-mlogloss:0.66533\tvalidation_1-mlogloss:0.787231\n",
      "[227]\tvalidation_0-mlogloss:0.664723\tvalidation_1-mlogloss:0.787018\n",
      "[228]\tvalidation_0-mlogloss:0.664024\tvalidation_1-mlogloss:0.786734\n",
      "[229]\tvalidation_0-mlogloss:0.663376\tvalidation_1-mlogloss:0.786418\n",
      "[230]\tvalidation_0-mlogloss:0.662745\tvalidation_1-mlogloss:0.786183\n",
      "[231]\tvalidation_0-mlogloss:0.662099\tvalidation_1-mlogloss:0.786224\n",
      "[232]\tvalidation_0-mlogloss:0.661578\tvalidation_1-mlogloss:0.786032\n",
      "[233]\tvalidation_0-mlogloss:0.661013\tvalidation_1-mlogloss:0.78573\n",
      "[234]\tvalidation_0-mlogloss:0.660465\tvalidation_1-mlogloss:0.78558\n",
      "[235]\tvalidation_0-mlogloss:0.65995\tvalidation_1-mlogloss:0.785442\n",
      "[236]\tvalidation_0-mlogloss:0.659337\tvalidation_1-mlogloss:0.785192\n",
      "[237]\tvalidation_0-mlogloss:0.658644\tvalidation_1-mlogloss:0.785039\n",
      "[238]\tvalidation_0-mlogloss:0.658052\tvalidation_1-mlogloss:0.785106\n",
      "[239]\tvalidation_0-mlogloss:0.657547\tvalidation_1-mlogloss:0.784951\n",
      "[240]\tvalidation_0-mlogloss:0.656918\tvalidation_1-mlogloss:0.784695\n",
      "[241]\tvalidation_0-mlogloss:0.656297\tvalidation_1-mlogloss:0.784615\n"
     ]
    },
    {
     "name": "stdout",
     "output_type": "stream",
     "text": [
      "[242]\tvalidation_0-mlogloss:0.655673\tvalidation_1-mlogloss:0.784285\n",
      "[243]\tvalidation_0-mlogloss:0.655106\tvalidation_1-mlogloss:0.784153\n",
      "[244]\tvalidation_0-mlogloss:0.654584\tvalidation_1-mlogloss:0.7839\n",
      "[245]\tvalidation_0-mlogloss:0.654028\tvalidation_1-mlogloss:0.783838\n",
      "[246]\tvalidation_0-mlogloss:0.653441\tvalidation_1-mlogloss:0.783566\n",
      "[247]\tvalidation_0-mlogloss:0.652822\tvalidation_1-mlogloss:0.783382\n",
      "[248]\tvalidation_0-mlogloss:0.652195\tvalidation_1-mlogloss:0.7832\n",
      "[249]\tvalidation_0-mlogloss:0.651648\tvalidation_1-mlogloss:0.783011\n",
      "[250]\tvalidation_0-mlogloss:0.651028\tvalidation_1-mlogloss:0.782854\n",
      "[251]\tvalidation_0-mlogloss:0.65044\tvalidation_1-mlogloss:0.782611\n",
      "[252]\tvalidation_0-mlogloss:0.649831\tvalidation_1-mlogloss:0.782355\n",
      "[253]\tvalidation_0-mlogloss:0.649312\tvalidation_1-mlogloss:0.782212\n",
      "[254]\tvalidation_0-mlogloss:0.64876\tvalidation_1-mlogloss:0.782105\n",
      "[255]\tvalidation_0-mlogloss:0.648249\tvalidation_1-mlogloss:0.781922\n",
      "[256]\tvalidation_0-mlogloss:0.647641\tvalidation_1-mlogloss:0.781792\n",
      "[257]\tvalidation_0-mlogloss:0.64704\tvalidation_1-mlogloss:0.781704\n",
      "[258]\tvalidation_0-mlogloss:0.646544\tvalidation_1-mlogloss:0.781584\n",
      "[259]\tvalidation_0-mlogloss:0.645968\tvalidation_1-mlogloss:0.781359\n",
      "[260]\tvalidation_0-mlogloss:0.64542\tvalidation_1-mlogloss:0.781043\n",
      "[261]\tvalidation_0-mlogloss:0.644851\tvalidation_1-mlogloss:0.781012\n",
      "[262]\tvalidation_0-mlogloss:0.644258\tvalidation_1-mlogloss:0.781101\n",
      "[263]\tvalidation_0-mlogloss:0.643765\tvalidation_1-mlogloss:0.780914\n",
      "[264]\tvalidation_0-mlogloss:0.643178\tvalidation_1-mlogloss:0.780769\n",
      "[265]\tvalidation_0-mlogloss:0.642634\tvalidation_1-mlogloss:0.780624\n",
      "[266]\tvalidation_0-mlogloss:0.642145\tvalidation_1-mlogloss:0.780443\n",
      "[267]\tvalidation_0-mlogloss:0.641651\tvalidation_1-mlogloss:0.78045\n",
      "[268]\tvalidation_0-mlogloss:0.641299\tvalidation_1-mlogloss:0.780285\n",
      "[269]\tvalidation_0-mlogloss:0.640781\tvalidation_1-mlogloss:0.780002\n",
      "[270]\tvalidation_0-mlogloss:0.640229\tvalidation_1-mlogloss:0.779781\n",
      "[271]\tvalidation_0-mlogloss:0.639695\tvalidation_1-mlogloss:0.779581\n",
      "[272]\tvalidation_0-mlogloss:0.639214\tvalidation_1-mlogloss:0.779375\n",
      "[273]\tvalidation_0-mlogloss:0.638714\tvalidation_1-mlogloss:0.779208\n",
      "[274]\tvalidation_0-mlogloss:0.638205\tvalidation_1-mlogloss:0.779105\n",
      "[275]\tvalidation_0-mlogloss:0.637738\tvalidation_1-mlogloss:0.778877\n",
      "[276]\tvalidation_0-mlogloss:0.637201\tvalidation_1-mlogloss:0.778757\n",
      "[277]\tvalidation_0-mlogloss:0.636688\tvalidation_1-mlogloss:0.778526\n",
      "[278]\tvalidation_0-mlogloss:0.636155\tvalidation_1-mlogloss:0.778483\n",
      "[279]\tvalidation_0-mlogloss:0.635616\tvalidation_1-mlogloss:0.778272\n",
      "[280]\tvalidation_0-mlogloss:0.635038\tvalidation_1-mlogloss:0.778066\n",
      "[281]\tvalidation_0-mlogloss:0.634501\tvalidation_1-mlogloss:0.777918\n",
      "[282]\tvalidation_0-mlogloss:0.633997\tvalidation_1-mlogloss:0.777871\n",
      "[283]\tvalidation_0-mlogloss:0.633453\tvalidation_1-mlogloss:0.777603\n",
      "[284]\tvalidation_0-mlogloss:0.632984\tvalidation_1-mlogloss:0.777547\n",
      "[285]\tvalidation_0-mlogloss:0.632439\tvalidation_1-mlogloss:0.777284\n",
      "[286]\tvalidation_0-mlogloss:0.631862\tvalidation_1-mlogloss:0.777189\n",
      "[287]\tvalidation_0-mlogloss:0.631422\tvalidation_1-mlogloss:0.777012\n",
      "[288]\tvalidation_0-mlogloss:0.630865\tvalidation_1-mlogloss:0.776861\n",
      "[289]\tvalidation_0-mlogloss:0.630331\tvalidation_1-mlogloss:0.776574\n",
      "[290]\tvalidation_0-mlogloss:0.629827\tvalidation_1-mlogloss:0.776634\n",
      "[291]\tvalidation_0-mlogloss:0.629334\tvalidation_1-mlogloss:0.776593\n",
      "[292]\tvalidation_0-mlogloss:0.628865\tvalidation_1-mlogloss:0.776622\n",
      "[293]\tvalidation_0-mlogloss:0.628342\tvalidation_1-mlogloss:0.776608\n",
      "[294]\tvalidation_0-mlogloss:0.627805\tvalidation_1-mlogloss:0.776466\n",
      "[295]\tvalidation_0-mlogloss:0.627202\tvalidation_1-mlogloss:0.776336\n",
      "[296]\tvalidation_0-mlogloss:0.6267\tvalidation_1-mlogloss:0.776248\n",
      "[297]\tvalidation_0-mlogloss:0.626223\tvalidation_1-mlogloss:0.776028\n",
      "[298]\tvalidation_0-mlogloss:0.62572\tvalidation_1-mlogloss:0.775839\n",
      "[299]\tvalidation_0-mlogloss:0.625214\tvalidation_1-mlogloss:0.775781\n"
     ]
    },
    {
     "data": {
      "text/plain": [
       "XGBClassifier(base_score=0.5, booster='gbtree', colsample_bylevel=1,\n",
       "              colsample_bynode=1, colsample_bytree=0.5, gamma=0,\n",
       "              learning_rate=0.1, max_delta_step=0, max_depth=3,\n",
       "              min_child_weight=1, missing=None, n_estimators=300, n_jobs=-1,\n",
       "              nthread=None, objective='multi:softprob', random_state=22,\n",
       "              reg_alpha=0, reg_lambda=1.5, scale_pos_weight=1, seed=None,\n",
       "              silent=None, subsample=0.8, verbosity=1)"
      ]
     },
     "execution_count": 36,
     "metadata": {},
     "output_type": "execute_result"
    }
   ],
   "source": [
    "# XgBoost\n",
    "\n",
    "xgb_model = XGBClassifier(max_depth= 3, n_estimators=300, n_jobs=-1,learning_rate=0.1, reg_lambda=1.5,\n",
    "                          colsample_bytree = 0.5, random_state=22, subsample = 0.8)\n",
    "xgb_model.fit(X_train_glove_sc, y_train, eval_metric =  ['mlogloss'], eval_set = [(X_train_glove_sc,y_train), (X_test_glove_sc, y_test)],\n",
    "             early_stopping_rounds = 30)\n"
   ]
  },
  {
   "cell_type": "code",
   "execution_count": 37,
   "metadata": {},
   "outputs": [
    {
     "name": "stdout",
     "output_type": "stream",
     "text": [
      "              precision    recall  f1-score   support\n",
      "\n",
      "           0       0.66      0.71      0.68      1580\n",
      "           1       0.66      0.61      0.63      1127\n",
      "           2       0.66      0.66      0.66      1209\n",
      "\n",
      "    accuracy                           0.66      3916\n",
      "   macro avg       0.66      0.66      0.66      3916\n",
      "weighted avg       0.66      0.66      0.66      3916\n",
      "\n"
     ]
    },
    {
     "data": {
      "text/html": [
       "<div>\n",
       "<style scoped>\n",
       "    .dataframe tbody tr th:only-of-type {\n",
       "        vertical-align: middle;\n",
       "    }\n",
       "\n",
       "    .dataframe tbody tr th {\n",
       "        vertical-align: top;\n",
       "    }\n",
       "\n",
       "    .dataframe thead th {\n",
       "        text-align: right;\n",
       "    }\n",
       "</style>\n",
       "<table border=\"1\" class=\"dataframe\">\n",
       "  <thead>\n",
       "    <tr style=\"text-align: right;\">\n",
       "      <th></th>\n",
       "      <th>Predicted EAP</th>\n",
       "      <th>Predicted HPL</th>\n",
       "      <th>predicted MWS</th>\n",
       "    </tr>\n",
       "  </thead>\n",
       "  <tbody>\n",
       "    <tr>\n",
       "      <th>Actual EAP</th>\n",
       "      <td>1114</td>\n",
       "      <td>208</td>\n",
       "      <td>258</td>\n",
       "    </tr>\n",
       "    <tr>\n",
       "      <th>Actual HPL</th>\n",
       "      <td>293</td>\n",
       "      <td>685</td>\n",
       "      <td>149</td>\n",
       "    </tr>\n",
       "    <tr>\n",
       "      <th>Actual MWS</th>\n",
       "      <td>273</td>\n",
       "      <td>142</td>\n",
       "      <td>794</td>\n",
       "    </tr>\n",
       "  </tbody>\n",
       "</table>\n",
       "</div>"
      ],
      "text/plain": [
       "            Predicted EAP  Predicted HPL  predicted MWS\n",
       "Actual EAP           1114            208            258\n",
       "Actual HPL            293            685            149\n",
       "Actual MWS            273            142            794"
      ]
     },
     "metadata": {},
     "output_type": "display_data"
    },
    {
     "name": "stdout",
     "output_type": "stream",
     "text": [
      "The multiclass logloss is 0.7757807170308221\n"
     ]
    }
   ],
   "source": [
    "show_metrics(y_test, xgb_model.predict(X_test_glove_sc), xgb_model.predict_proba(X_test_glove_sc))"
   ]
  },
  {
   "cell_type": "markdown",
   "metadata": {},
   "source": [
    "### LSTM sequence model"
   ]
  },
  {
   "cell_type": "code",
   "execution_count": 108,
   "metadata": {},
   "outputs": [],
   "source": [
    "def convert_to_one_hot(Y, C):\n",
    "    Y = np.eye(C)[Y.reshape(-1)]\n",
    "    return Y\n",
    "\n",
    "def tokenize(text_corpus):\n",
    "    '''\n",
    "    Tokenize the corpus and return the tokenizer object\n",
    "    '''\n",
    "    tokenizer = Tokenizer(lower=True)\n",
    "    tokenizer.fit_on_texts(text_corpus)\n",
    "    return tokenizer\n",
    "\n",
    "def text_to_seq(tokenizer, text_corpus, max_len):\n",
    "    '''\n",
    "    Return the word indices array to be used as input for Keras Embedding layer\n",
    "    Arguments:\n",
    "    max_len -- Maximum sequence length to be used for padding\n",
    "    '''\n",
    "    tensor = tokenizer.texts_to_sequences(text_corpus)\n",
    "    tensor_pad = pad_sequences(tensor,maxlen=max_len, padding='pre')\n",
    "    return tensor_pad\n",
    "\n",
    "def create_embedding_matrix(word_to_vec_map, word_index, emb_dim):\n",
    "    vocab_len = len(word_index) + 1\n",
    "    embedding_matrix = np.zeros(shape = (vocab_len, emb_dim))\n",
    "    for word, idx in word_index.items():\n",
    "        emb_vector = word_to_vec_map.get(word)\n",
    "        if emb_vector is not None:\n",
    "            embedding_matrix[idx,:] = emb_vector\n",
    "    return embedding_matrix\n",
    "\n",
    "def create_model(word_to_vec_map, word_index, emb_dim, max_len):\n",
    "    '''\n",
    "    Returns a Keras model two LSTM layers followed by a dense layer with softmax activation.\n",
    "    \n",
    "    Arguments:\n",
    "    word_to_vec_map -- dictionary mapping every word in a vocabulary into its n-dimensional vector representation\n",
    "    word_to_index -- dictionary mapping from words to their indices in the vocabulary\n",
    "    emb_dim -- dimenesion of the word embedding\n",
    "\n",
    "    Returns:\n",
    "    model -- a model instance in Keras\n",
    "    '''\n",
    "    vocab_len = len(word_index) + 1\n",
    "    embedding_matrix = create_embedding_matrix(word_to_vec_map, word_index, emb_dim)\n",
    "    embedding_layer  = Embedding(vocab_len, emb_dim, weights=[embedding_matrix], \n",
    "                                 input_length=max_len, trainable = False)                             \n",
    "    model = Sequential()\n",
    "    model.add(embedding_layer)\n",
    "    model.add(Bidirectional(LSTM(128, recurrent_dropout=0.4, return_sequences=False)))\n",
    "    model.add(Dropout(rate = 0.4))\n",
    "    model.add(Dense(256, activation = 'relu'))\n",
    "    model.add(Dropout(rate = 0.4))   \n",
    "    model.add(Dense(units = 3, activation = 'softmax'))\n",
    "    return model"
   ]
  },
  {
   "cell_type": "code",
   "execution_count": 109,
   "metadata": {},
   "outputs": [],
   "source": [
    "train = pd.read_csv('../input/train.csv')\n",
    "#train.loc[:, 'author'] = train.author.map({'EAP':0, 'HPL': 1, 'MWS': 2})\n",
    "X_train, X_test, y_train, y_test = train_test_split(train, train.author, test_size=0.2, \n",
    "                                                  shuffle=True, random_state=999, stratify = train.author)\n",
    "\n",
    "lbl_enc = LabelEncoder()\n",
    "lbl_enc.fit(y_train)\n",
    "y_train = lbl_enc.transform(y_train)\n",
    "y_test = lbl_enc.transform(y_test)\n",
    "\n",
    "X_train.reset_index(drop=True, inplace=True)\n",
    "X_test.reset_index(drop=True, inplace=True)"
   ]
  },
  {
   "cell_type": "code",
   "execution_count": 110,
   "metadata": {},
   "outputs": [
    {
     "name": "stdout",
     "output_type": "stream",
     "text": [
      "Found 25943 unique tokens.\n",
      "15663 training examples exceeded max_len\n",
      "3916 test examples exceeded max_len\n",
      "\n",
      "Model: \"sequential_1\"\n",
      "_________________________________________________________________\n",
      "Layer (type)                 Output Shape              Param #   \n",
      "=================================================================\n",
      "embedding_1 (Embedding)      (None, 150, 100)          2594400   \n",
      "_________________________________________________________________\n",
      "bidirectional_1 (Bidirection (None, 256)               234496    \n",
      "_________________________________________________________________\n",
      "dropout_1 (Dropout)          (None, 256)               0         \n",
      "_________________________________________________________________\n",
      "dense_1 (Dense)              (None, 256)               65792     \n",
      "_________________________________________________________________\n",
      "dropout_2 (Dropout)          (None, 256)               0         \n",
      "_________________________________________________________________\n",
      "dense_2 (Dense)              (None, 3)                 771       \n",
      "=================================================================\n",
      "Total params: 2,895,459\n",
      "Trainable params: 301,059\n",
      "Non-trainable params: 2,594,400\n",
      "_________________________________________________________________\n"
     ]
    }
   ],
   "source": [
    "from keras.utils import np_utils\n",
    "\n",
    "emb_dim = 100\n",
    "max_len = 150\n",
    "\n",
    "tokenizer = tokenize(train.text)\n",
    "word_index = tokenizer.word_index\n",
    "print('Found %s unique tokens.' % len(word_index))\n",
    "\n",
    "X_train_emb = text_to_seq(tokenizer, text_corpus = X_train.text, max_len = max_len)\n",
    "X_test_emb = text_to_seq(tokenizer, text_corpus =  X_test.text, max_len = max_len)\n",
    "\n",
    "print('{} training examples exceeded max_len'.format(np.sum(X_train_emb[:, max_len-1]!=0)))\n",
    "print('{} test examples exceeded max_len\\n'.format(np.sum(X_test_emb[:, max_len-1]!=0)))\n",
    "\n",
    "Y_train_oh = np_utils.to_categorical(y_train, dtype = 'int32')\n",
    "Y_test_oh = np_utils.to_categorical(y_test, dtype = 'int32')\n",
    "\n",
    "\n",
    "K.clear_session()\n",
    "model = create_model(word_to_vec_map, word_index, emb_dim, max_len)\n",
    "model.summary()"
   ]
  },
  {
   "cell_type": "code",
   "execution_count": null,
   "metadata": {},
   "outputs": [
    {
     "name": "stdout",
     "output_type": "stream",
     "text": [
      "Train on 15663 samples, validate on 3916 samples\n",
      "Epoch 1/20\n",
      "15663/15663 [==============================] - 280s 18ms/step - loss: 0.9948 - accuracy: 0.5051 - val_loss: 0.8476 - val_accuracy: 0.6177\n",
      "Epoch 2/20\n",
      "12288/15663 [======================>.......] - ETA: 59s - loss: 0.8634 - accuracy: 0.6143 "
     ]
    }
   ],
   "source": [
    "model.compile(loss='categorical_crossentropy', optimizer='adam', metrics= ['accuracy'])\n",
    "\n",
    "early_stop = EarlyStopping(monitor='val_loss', patience=10)\n",
    "\n",
    "history = model.fit(X_train_emb, Y_train_oh, batch_size=256, epochs=20, verbose=1, \n",
    "          validation_data=(X_test_emb, Y_test_oh), callbacks=[early_stop])"
   ]
  },
  {
   "cell_type": "code",
   "execution_count": 105,
   "metadata": {},
   "outputs": [
    {
     "name": "stdout",
     "output_type": "stream",
     "text": [
      "3916/3916 [==============================] - 52s 13ms/step\n",
      "Logloss on test set:  [0.8130607615026195, 0.7397854924201965]\n"
     ]
    }
   ],
   "source": [
    "loss = model.evaluate(X_test_emb, Y_test_oh)\n",
    "print(\"Logloss on test set: \", loss)"
   ]
  },
  {
   "cell_type": "code",
   "execution_count": 106,
   "metadata": {},
   "outputs": [
    {
     "data": {
      "image/png": "[encoded data removed]",
      "text/plain": [
       "<Figure size 432x288 with 1 Axes>"
      ]
     },
     "metadata": {
      "needs_background": "light"
     },
     "output_type": "display_data"
    }
   ],
   "source": [
    "def plot_graphs(history, metric):\n",
    "    plt.plot(history.history[metric])\n",
    "    plt.plot(history.history['val_'+metric], '')\n",
    "    plt.xlabel(\"Epochs\")\n",
    "    plt.ylabel(metric)\n",
    "    plt.legend([metric, 'val_'+metric])\n",
    "    plt.show()\n",
    "    \n",
    "plot_graphs(history, 'loss')\n",
    "    \n"
   ]
  },
  {
   "cell_type": "code",
   "execution_count": 107,
   "metadata": {},
   "outputs": [
    {
     "ename": "AttributeError",
     "evalue": "'numpy.ndarray' object has no attribute 'values'",
     "output_type": "error",
     "traceback": [
      "\u001b[0;31m---------------------------------------------------------------------------\u001b[0m",
      "\u001b[0;31mAttributeError\u001b[0m                            Traceback (most recent call last)",
      "\u001b[0;32m<ipython-input-107-ced434b4201e>\u001b[0m in \u001b[0;36m<module>\u001b[0;34m\u001b[0m\n\u001b[1;32m      3\u001b[0m \u001b[0;32mfor\u001b[0m \u001b[0mi\u001b[0m \u001b[0;32min\u001b[0m \u001b[0mrange\u001b[0m\u001b[0;34m(\u001b[0m\u001b[0mlen\u001b[0m\u001b[0;34m(\u001b[0m\u001b[0mX_test_emb\u001b[0m\u001b[0;34m)\u001b[0m\u001b[0;34m)\u001b[0m\u001b[0;34m:\u001b[0m\u001b[0;34m\u001b[0m\u001b[0;34m\u001b[0m\u001b[0m\n\u001b[1;32m      4\u001b[0m     \u001b[0mnum\u001b[0m \u001b[0;34m=\u001b[0m \u001b[0mnp\u001b[0m\u001b[0;34m.\u001b[0m\u001b[0margmax\u001b[0m\u001b[0;34m(\u001b[0m\u001b[0mpred\u001b[0m\u001b[0;34m[\u001b[0m\u001b[0mi\u001b[0m\u001b[0;34m]\u001b[0m\u001b[0;34m)\u001b[0m\u001b[0;34m\u001b[0m\u001b[0;34m\u001b[0m\u001b[0m\n\u001b[0;32m----> 5\u001b[0;31m     \u001b[0;32mif\u001b[0m\u001b[0;34m(\u001b[0m\u001b[0mnum\u001b[0m \u001b[0;34m!=\u001b[0m \u001b[0my_test\u001b[0m\u001b[0;34m.\u001b[0m\u001b[0mvalues\u001b[0m\u001b[0;34m[\u001b[0m\u001b[0mi\u001b[0m\u001b[0;34m]\u001b[0m\u001b[0;34m)\u001b[0m\u001b[0;34m:\u001b[0m\u001b[0;34m\u001b[0m\u001b[0;34m\u001b[0m\u001b[0m\n\u001b[0m\u001b[1;32m      6\u001b[0m         \u001b[0mcount\u001b[0m\u001b[0;34m+=\u001b[0m\u001b[0;36m1\u001b[0m\u001b[0;34m\u001b[0m\u001b[0;34m\u001b[0m\u001b[0m\n\u001b[1;32m      7\u001b[0m         \u001b[0mprint\u001b[0m\u001b[0;34m(\u001b[0m\u001b[0;34m'Expected author: {} prediction: {} row number: {} '\u001b[0m\u001b[0;34m.\u001b[0m\u001b[0mformat\u001b[0m \u001b[0;34m(\u001b[0m\u001b[0my_test\u001b[0m\u001b[0;34m.\u001b[0m\u001b[0mvalues\u001b[0m\u001b[0;34m[\u001b[0m\u001b[0mi\u001b[0m\u001b[0;34m]\u001b[0m\u001b[0;34m,\u001b[0m \u001b[0mnum\u001b[0m\u001b[0;34m,\u001b[0m \u001b[0mi\u001b[0m\u001b[0;34m)\u001b[0m\u001b[0;34m)\u001b[0m\u001b[0;34m\u001b[0m\u001b[0;34m\u001b[0m\u001b[0m\n",
      "\u001b[0;31mAttributeError\u001b[0m: 'numpy.ndarray' object has no attribute 'values'"
     ]
    }
   ],
   "source": [
    "# This code allows you to see the mislabelled examples\n",
    "count = 0\n",
    "for i in range(len(X_test_emb)):\n",
    "    num = np.argmax(pred[i])\n",
    "    if(num != y_test.values[i]):\n",
    "        count+=1\n",
    "        print('Expected author: {} prediction: {} row number: {} '.format (y_test.values[i], num, i))"
   ]
  },
  {
   "cell_type": "code",
   "execution_count": 45,
   "metadata": {},
   "outputs": [
    {
     "data": {
      "text/plain": [
       "'\\nkf = StratifiedKFold(n_splits=5, shuffle=True, random_state=2017)\\ncv_scores = []\\npred_full_test = 0\\npred_train = np.zeros([train_df.shape[0], 3])\\nfor dev_index, val_index in kf.split(X_train):\\n    dev_X, val_X = train_X.loc[dev_index], train_X.loc[val_index]\\n    dev_y, val_y = train_y[dev_index], train_y[val_index]\\n    pred_val_y, pred_test_y, model = runXGB(dev_X, dev_y, val_X, val_y, test_X, seed_val=0, colsample=0.7)\\n    pred_full_test = pred_full_test + pred_test_y\\n    pred_train[val_index,:] = pred_val_y\\n    cv_scores.append(metrics.log_loss(val_y, pred_val_y))\\n    break\\nprint(\"cv scores : \", cv_scores)\\n\\nout_df = pd.DataFrame(pred_full_test)\\nout_df.columns = [\\'EAP\\', \\'HPL\\', \\'MWS\\']\\nout_df.insert(0, \\'id\\', test_id)\\nout_df.to_csv(\"sub_fe.csv\", index=False)\\n'"
      ]
     },
     "execution_count": 45,
     "metadata": {},
     "output_type": "execute_result"
    }
   ],
   "source": [
    "'''\n",
    "kf = StratifiedKFold(n_splits=5, shuffle=True, random_state=2017)\n",
    "cv_scores = []\n",
    "pred_full_test = 0\n",
    "pred_train = np.zeros([train_df.shape[0], 3])\n",
    "for dev_index, val_index in kf.split(X_train):\n",
    "    dev_X, val_X = train_X.loc[dev_index], train_X.loc[val_index]\n",
    "    dev_y, val_y = train_y[dev_index], train_y[val_index]\n",
    "    pred_val_y, pred_test_y, model = runXGB(dev_X, dev_y, val_X, val_y, test_X, seed_val=0, colsample=0.7)\n",
    "    pred_full_test = pred_full_test + pred_test_y\n",
    "    pred_train[val_index,:] = pred_val_y\n",
    "    cv_scores.append(metrics.log_loss(val_y, pred_val_y))\n",
    "    break\n",
    "print(\"cv scores : \", cv_scores)\n",
    "\n",
    "out_df = pd.DataFrame(pred_full_test)\n",
    "out_df.columns = ['EAP', 'HPL', 'MWS']\n",
    "out_df.insert(0, 'id', test_id)\n",
    "out_df.to_csv(\"sub_fe.csv\", index=False)\n",
    "'''"
   ]
  },
  {
   "cell_type": "code",
   "execution_count": null,
   "metadata": {},
   "outputs": [],
   "source": []
  }
 ],
 "metadata": {
  "kernelspec": {
   "display_name": "Python 3",
   "language": "python",
   "name": "python3"
  },
  "language_info": {
   "codemirror_mode": {
    "name": "ipython",
    "version": 3
   },
   "file_extension": ".py",
   "mimetype": "text/x-python",
   "name": "python",
   "nbconvert_exporter": "python",
   "pygments_lexer": "ipython3",
   "version": "3.6.10"
  }
 },
 "nbformat": 4,
 "nbformat_minor": 4
}
